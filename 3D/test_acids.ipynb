{
 "cells": [
  {
   "cell_type": "code",
   "execution_count": 1,
   "id": "c32f2408-db7a-4edf-bd34-10c7b16cea63",
   "metadata": {},
   "outputs": [],
   "source": [
    "import torch\n",
    "import torch_geometric\n",
    "\n",
    "import pandas as pd\n",
    "import numpy as np\n",
    "\n",
    "import rdkit\n",
    "import rdkit.Chem\n",
    "import rdkit.Chem.AllChem\n",
    "from rdkit import Chem\n",
    "\n",
    "from tqdm import tqdm\n",
    "from copy import deepcopy\n",
    "import random\n",
    "import re\n",
    "import os\n",
    "import shutil\n",
    "import argparse\n",
    "import sys\n",
    "import ast\n",
    "\n",
    "from datasets.dataset_3D import *\n",
    "from models.dimenetpp import *\n"
   ]
  },
  {
   "cell_type": "code",
   "execution_count": 5,
   "id": "50655361-817f-48ba-9bf9-925fec270a6d",
   "metadata": {},
   "outputs": [],
   "source": [
    "model_dictionary = {\n",
    "    \n",
    "    ('acid', 'atom', 'C1_NBO_charge', 'Boltz'):   'trained_models/acids/C1_NBO_charge/boltz/model_best.pt', \n",
    "    \n",
    "    ('acid', 'atom', 'C1_Vbur', 'Boltz'): 'trained_models/acids/C1_Vbur/boltz/model_best.pt',\n",
    "    ('acid', 'atom', 'C1_Vbur', 'min'): 'trained_models/acids/C1_Vbur/min/model_best.pt', \n",
    "    ('acid', 'atom', 'C1_Vbur', 'max'): 'trained_models/acids/C1_Vbur/max/model_best.pt', \n",
    "    ('acid', 'atom', 'C1_Vbur', 'lowE'): 'trained_models/acids/C1_Vbur/min_E/model_best.pt', \n",
    "    \n",
    "    ('acid', 'atom', 'O3_NBO_charge', 'Boltz'): 'trained_models/acids/O3_NBO_charge/boltz/model_best.pt',\n",
    "    ('acid', 'atom', 'O3_NBO_charge', 'min'): 'trained_models/acids/O3_NBO_charge/min/model_best.pt', \n",
    "    ('acid', 'atom', 'O3_NBO_charge', 'max'): 'trained_models/acids/O3_NBO_charge/max/model_best.pt',\n",
    "    ('acid', 'atom', 'O3_NBO_charge', 'lowE'): 'trained_models/acids/O3_NBO_charge/min_E/model_best.pt',\n",
    "    \n",
    "    ('acid', 'atom', 'H5_NBO_charge', 'Boltz'): 'trained_models/acids/H5_NBO_charge/boltz/model_best.pt',\n",
    "    ('acid', 'atom', 'H5_NBO_charge', 'min'): 'trained_models/acids/H5_NBO_charge/min/model_best.pt',\n",
    "    ('acid', 'atom', 'H5_NBO_charge', 'max'): 'trained_models/acids/H5_NBO_charge/max/model_best.pt',\n",
    "    ('acid', 'atom', 'H5_NBO_charge', 'lowE'): 'trained_models/acids/H5_NBO_charge/min_E/model_best.pt',\n",
    "    \n",
    "    ('acid', 'atom', 'H5_NMR_shift', 'Boltz'): 'trained_models/acids/H5_NMR_shift/boltz/model_best.pt',\n",
    "    ('acid', 'atom', 'H5_NMR_shift', 'min'): 'trained_models/acids/H5_NMR_shift/min/model_best.pt',\n",
    "    ('acid', 'atom', 'H5_NMR_shift', 'max'): 'trained_models/acids/H5_NMR_shift/max/model_best.pt',\n",
    "    ('acid', 'atom', 'H5_NMR_shift', 'lowE'): 'trained_models/acids/H5_NMR_shift/min_E/model_best.pt',\n",
    "    \n",
    "    \n",
    "    ('acid', 'bond', 'IR_freq', 'Boltz'): 'trained_models/acids/IR_freq/boltz/model_best.pt',\n",
    "    ('acid', 'bond', 'IR_freq', 'min'):   'trained_models/acids/IR_freq/min/model_best.pt',\n",
    "    ('acid', 'bond', 'IR_freq', 'max'):   'trained_models/acids/IR_freq/max/model_best.pt',\n",
    "    ('acid', 'bond', 'IR_freq', 'lowE'): 'trained_models/acids/IR_freq/min_E/model_best.pt',\n",
    "    \n",
    "    ('acid', 'bond', 'Sterimol_B1', 'Boltz'): 'trained_models/acids/Sterimol_B1/boltz/model_best.pt',\n",
    "    ('acid', 'bond', 'Sterimol_B1', 'min'):   'trained_models/acids/Sterimol_B1/min/model_best.pt',\n",
    "    ('acid', 'bond', 'Sterimol_B1', 'max'):   'trained_models/acids/Sterimol_B1/max/model_best.pt',\n",
    "    ('acid', 'bond', 'Sterimol_B1', 'lowE'): 'trained_models/acids/Sterimol_B1/min_E/model_best.pt',\n",
    "    \n",
    "    ('acid', 'bond', 'Sterimol_B5', 'Boltz'): 'trained_models/acids/Sterimol_B5/boltz/model_best.pt',\n",
    "    ('acid', 'bond', 'Sterimol_B5', 'min'):   'trained_models/acids/Sterimol_B5/min/model_best.pt',\n",
    "    ('acid', 'bond', 'Sterimol_B5', 'max'):   'trained_models/acids/Sterimol_B5/max/model_best.pt',\n",
    "    ('acid', 'bond', 'Sterimol_B5', 'lowE'): 'trained_models/acids/Sterimol_B5/min_E/model_best.pt',\n",
    "    \n",
    "    ('acid', 'bond', 'Sterimol_L', 'Boltz'): 'trained_models/acids/Sterimol_L/boltz/model_best.pt',\n",
    "    ('acid', 'bond', 'Sterimol_L', 'min'):   'trained_models/acids/Sterimol_L/min/model_best.pt',\n",
    "    ('acid', 'bond', 'Sterimol_L', 'max'):   'trained_models/acids/Sterimol_L/max/model_best.pt',\n",
    "    ('acid', 'bond', 'Sterimol_L', 'lowE'): 'trained_models/acids/Sterimol_L/min_E/model_best.pt',\n",
    "    \n",
    "    ('acid', 'mol', 'dipole', 'Boltz'): 'trained_models/acids/dipole/boltz/model_best.pt',\n",
    "    ('acid', 'mol', 'dipole', 'min'):   'trained_models/acids/dipole/min/model_best.pt',\n",
    "    ('acid', 'mol', 'dipole', 'max'):   'trained_models/acids/dipole/max/model_best.pt',\n",
    "    ('acid', 'mol', 'dipole', 'lowE'): 'trained_models/acids/dipole/min_E/model_best.pt',\n",
    "    \n",
    "    \n",
    "}"
   ]
  },
  {
   "cell_type": "code",
   "execution_count": 3,
   "id": "faa2918d-f753-4d8f-83af-16cf204e7595",
   "metadata": {},
   "outputs": [
    {
     "name": "stderr",
     "output_type": "stream",
     "text": [
      "[19:04:24] Conflicting single bond directions around double bond at index 25.\n",
      "[19:04:24]   BondStereo set to STEREONONE and single bond directions set to NONE.\n",
      "[19:04:24] Conflicting single bond directions around double bond at index 22.\n",
      "[19:04:24]   BondStereo set to STEREONONE and single bond directions set to NONE.\n"
     ]
    }
   ],
   "source": [
    "num_workers = 4\n",
    "use_atom_features = 1\n",
    "\n",
    "conformer_data_file = 'data/3D_model_acid_rdkit_conformers.csv'\n",
    "conformers_df = pd.read_csv(conformer_data_file).reset_index(drop = True)\n",
    "conformers_df['mols'] = [rdkit.Chem.MolFromMolBlock(m, removeHs = False) for m in conformers_df.mol_block]\n",
    "conformers_df['mols_noHs'] = [rdkit.Chem.RemoveHs(m) for m in conformers_df['mols']]\n"
   ]
  },
  {
   "cell_type": "code",
   "execution_count": null,
   "id": "1bcd5c3a-e77b-4b25-abea-b07241470e5c",
   "metadata": {},
   "outputs": [],
   "source": [
    "# testing loop definition\n",
    "\n",
    "def loop(model, batch, property_type = 'bond'):\n",
    "    \n",
    "    batch = batch.to(device)\n",
    "        \n",
    "    if property_type == 'bond':\n",
    "        out = model(\n",
    "            batch.x.squeeze(), \n",
    "            batch.pos, \n",
    "            batch.batch,\n",
    "            batch.atom_features,\n",
    "            select_bond_start_atom_index = batch.bond_start_ID_index,\n",
    "            select_bond_end_atom_index = batch.bond_end_ID_index,\n",
    "        )\n",
    "    \n",
    "    elif property_type == 'atom':\n",
    "        out = model(\n",
    "            batch.x.squeeze(),\n",
    "            batch.pos, \n",
    "            batch.batch,\n",
    "            batch.atom_features,\n",
    "            select_atom_index = batch.atom_ID_index,\n",
    "        )\n",
    "        \n",
    "    elif property_type == 'mol':\n",
    "        out = model(\n",
    "            batch.x.squeeze(),\n",
    "            batch.pos,\n",
    "            batch.batch,\n",
    "            batch.atom_features,\n",
    "        )\n",
    "    \n",
    "    targets = batch.targets\n",
    "    pred_targets = out[0].squeeze()\n",
    "    mse_loss = torch.mean(torch.square(targets - pred_targets))\n",
    "    mae = torch.mean(torch.abs(targets - pred_targets))    \n",
    "    \n",
    "    return targets.detach().cpu().numpy(), pred_targets.detach().cpu().numpy()\n"
   ]
  },
  {
   "cell_type": "code",
   "execution_count": 6,
   "id": "0a152a8f-39e1-4966-acb1-7c107519b829",
   "metadata": {},
   "outputs": [
    {
     "name": "stderr",
     "output_type": "stream",
     "text": [
      "100%|██████████| 44/44 [00:42<00:00,  1.03it/s]\n"
     ]
    },
    {
     "name": "stdout",
     "output_type": "stream",
     "text": [
      "('acid', 'bond', 'IR_freq', 'Boltz')\n",
      "     MAE: 2.8184686228006828 R2: 0.9172257441907982\n"
     ]
    },
    {
     "name": "stderr",
     "output_type": "stream",
     "text": [
      "100%|██████████| 44/44 [01:09<00:00,  1.59s/it]\n"
     ]
    },
    {
     "name": "stdout",
     "output_type": "stream",
     "text": [
      "('acid', 'bond', 'IR_freq', 'min')\n",
      "     MAE: 3.7841630182346377 R2: 0.817582645305739\n"
     ]
    },
    {
     "name": "stderr",
     "output_type": "stream",
     "text": [
      "100%|██████████| 44/44 [00:58<00:00,  1.33s/it]\n"
     ]
    },
    {
     "name": "stdout",
     "output_type": "stream",
     "text": [
      "('acid', 'bond', 'IR_freq', 'max')\n",
      "     MAE: 3.0489183954831933 R2: 0.9227014787032608\n"
     ]
    },
    {
     "name": "stderr",
     "output_type": "stream",
     "text": [
      "100%|██████████| 44/44 [00:57<00:00,  1.30s/it]\n"
     ]
    },
    {
     "name": "stdout",
     "output_type": "stream",
     "text": [
      "('acid', 'bond', 'IR_freq', 'lowE')\n",
      "     MAE: 4.360769576385241 R2: 0.8689578228709121\n"
     ]
    },
    {
     "name": "stderr",
     "output_type": "stream",
     "text": [
      "100%|██████████| 44/44 [00:43<00:00,  1.02it/s]\n"
     ]
    },
    {
     "name": "stdout",
     "output_type": "stream",
     "text": [
      "('acid', 'bond', 'Sterimol_B1', 'Boltz')\n",
      "     MAE: 0.07710167540221655 R2: 0.8405513955268187\n"
     ]
    },
    {
     "name": "stderr",
     "output_type": "stream",
     "text": [
      "100%|██████████| 44/44 [01:09<00:00,  1.58s/it]\n"
     ]
    },
    {
     "name": "stdout",
     "output_type": "stream",
     "text": [
      "('acid', 'bond', 'Sterimol_B1', 'min')\n",
      "     MAE: 0.04891798651518942 R2: 0.9121633775027215\n"
     ]
    },
    {
     "name": "stderr",
     "output_type": "stream",
     "text": [
      "100%|██████████| 44/44 [00:59<00:00,  1.35s/it]\n"
     ]
    },
    {
     "name": "stdout",
     "output_type": "stream",
     "text": [
      "('acid', 'bond', 'Sterimol_B1', 'max')\n",
      "     MAE: 0.1388681743826185 R2: 0.7659256392147735\n"
     ]
    },
    {
     "name": "stderr",
     "output_type": "stream",
     "text": [
      "100%|██████████| 44/44 [01:12<00:00,  1.66s/it]\n"
     ]
    },
    {
     "name": "stdout",
     "output_type": "stream",
     "text": [
      "('acid', 'bond', 'Sterimol_B1', 'lowE')\n",
      "     MAE: 0.12191491517700068 R2: 0.6470598725302308\n"
     ]
    },
    {
     "name": "stderr",
     "output_type": "stream",
     "text": [
      "100%|██████████| 44/44 [01:10<00:00,  1.60s/it]\n"
     ]
    },
    {
     "name": "stdout",
     "output_type": "stream",
     "text": [
      "('acid', 'bond', 'Sterimol_B5', 'Boltz')\n",
      "     MAE: 0.41340818825890036 R2: 0.8957372323849371\n"
     ]
    },
    {
     "name": "stderr",
     "output_type": "stream",
     "text": [
      "100%|██████████| 44/44 [01:16<00:00,  1.74s/it]\n"
     ]
    },
    {
     "name": "stdout",
     "output_type": "stream",
     "text": [
      "('acid', 'bond', 'Sterimol_B5', 'min')\n",
      "     MAE: 0.36123269596019714 R2: 0.8167726041996152\n"
     ]
    },
    {
     "name": "stderr",
     "output_type": "stream",
     "text": [
      "100%|██████████| 44/44 [01:20<00:00,  1.82s/it]\n"
     ]
    },
    {
     "name": "stdout",
     "output_type": "stream",
     "text": [
      "('acid', 'bond', 'Sterimol_B5', 'max')\n",
      "     MAE: 0.3002559121917276 R2: 0.9678505690138206\n"
     ]
    },
    {
     "name": "stderr",
     "output_type": "stream",
     "text": [
      "100%|██████████| 44/44 [01:09<00:00,  1.58s/it]\n"
     ]
    },
    {
     "name": "stdout",
     "output_type": "stream",
     "text": [
      "('acid', 'bond', 'Sterimol_B5', 'lowE')\n",
      "     MAE: 0.6712102048537311 R2: 0.7476588932203901\n"
     ]
    },
    {
     "name": "stderr",
     "output_type": "stream",
     "text": [
      "100%|██████████| 44/44 [01:03<00:00,  1.45s/it]\n"
     ]
    },
    {
     "name": "stdout",
     "output_type": "stream",
     "text": [
      "('acid', 'bond', 'Sterimol_L', 'Boltz')\n",
      "     MAE: 0.5063205586761987 R2: 0.8044965225463881\n"
     ]
    },
    {
     "name": "stderr",
     "output_type": "stream",
     "text": [
      "100%|██████████| 44/44 [00:41<00:00,  1.06it/s]\n"
     ]
    },
    {
     "name": "stdout",
     "output_type": "stream",
     "text": [
      "('acid', 'bond', 'Sterimol_L', 'min')\n",
      "     MAE: 0.19576590802489208 R2: 0.9690634671519615\n"
     ]
    },
    {
     "name": "stderr",
     "output_type": "stream",
     "text": [
      "100%|██████████| 44/44 [00:55<00:00,  1.27s/it]\n"
     ]
    },
    {
     "name": "stdout",
     "output_type": "stream",
     "text": [
      "('acid', 'bond', 'Sterimol_L', 'max')\n",
      "     MAE: 0.49023742936238524 R2: 0.8824687250873694\n"
     ]
    },
    {
     "name": "stderr",
     "output_type": "stream",
     "text": [
      "100%|██████████| 44/44 [01:05<00:00,  1.50s/it]\n"
     ]
    },
    {
     "name": "stdout",
     "output_type": "stream",
     "text": [
      "('acid', 'bond', 'Sterimol_L', 'lowE')\n",
      "     MAE: 0.8000724045168451 R2: 0.63096389900824\n"
     ]
    },
    {
     "name": "stderr",
     "output_type": "stream",
     "text": [
      "100%|██████████| 44/44 [00:59<00:00,  1.36s/it]\n"
     ]
    },
    {
     "name": "stdout",
     "output_type": "stream",
     "text": [
      "('acid', 'mol', 'dipole', 'Boltz')\n",
      "     MAE: 0.4161579473679807 R2: 0.7377818833196705\n"
     ]
    },
    {
     "name": "stderr",
     "output_type": "stream",
     "text": [
      "100%|██████████| 44/44 [00:32<00:00,  1.34it/s]\n"
     ]
    },
    {
     "name": "stdout",
     "output_type": "stream",
     "text": [
      "('acid', 'mol', 'dipole', 'min')\n",
      "     MAE: 0.4274945945612022 R2: 0.6996448648638428\n"
     ]
    },
    {
     "name": "stderr",
     "output_type": "stream",
     "text": [
      "100%|██████████| 44/44 [00:33<00:00,  1.30it/s]\n"
     ]
    },
    {
     "name": "stdout",
     "output_type": "stream",
     "text": [
      "('acid', 'mol', 'dipole', 'max')\n",
      "     MAE: 0.39166391021063346 R2: 0.8557187131160934\n"
     ]
    },
    {
     "name": "stderr",
     "output_type": "stream",
     "text": [
      "100%|██████████| 44/44 [00:32<00:00,  1.34it/s]\n"
     ]
    },
    {
     "name": "stdout",
     "output_type": "stream",
     "text": [
      "('acid', 'mol', 'dipole', 'lowE')\n",
      "     MAE: 0.7086338995635009 R2: 0.5445997724692987\n"
     ]
    }
   ],
   "source": [
    "for model_selection in model_dictionary:\n",
    "    \n",
    "    keep_explicit_hydrogens = model_selection[2] in ['H5_NBO_charge', 'H5_NMR_shift', 'NBO_charge_H', 'NMR_shift_H']\n",
    "    remove_Hs_except_functional = 2 if keep_explicit_hydrogens else False\n",
    "    \n",
    "    mol_type = model_selection[0]\n",
    "    property_type = model_selection[1]\n",
    "    prop =  model_selection[2]\n",
    "    agg = model_selection[3]\n",
    "    \n",
    "    if mol_type == 'acid':\n",
    "        descriptor_data_file = f'data/acid/{property_type}/{prop}_{agg}.csv'\n",
    "    if mol_type == 'amine':\n",
    "        try:\n",
    "            descriptor_data_file = f'data/combined_amine/{property_type}/{prop}_{agg}.csv'\n",
    "            descriptor_df = pd.read_csv(descriptor_data_file, converters={\"bond_atom_tuple\": ast.literal_eval})\n",
    "        except:\n",
    "            descriptor_data_file = f'data/primary_amine/{property_type}/{prop}_{agg}.csv'\n",
    "            descriptor_df = pd.read_csv(descriptor_data_file, converters={\"bond_atom_tuple\": ast.literal_eval})\n",
    "    if mol_type == 'sec_amine':\n",
    "        try:\n",
    "            descriptor_data_file = f'data/combined_amine/{property_type}/{prop}_{agg}.csv'\n",
    "            descriptor_df = pd.read_csv(descriptor_data_file, converters={\"bond_atom_tuple\": ast.literal_eval})\n",
    "        except:\n",
    "            descriptor_data_file = f'data/secondary_amine/{property_type}/{prop}_{agg}.csv'\n",
    "            descriptor_df = pd.read_csv(descriptor_data_file, converters={\"bond_atom_tuple\": ast.literal_eval})\n",
    "        \n",
    "    \n",
    "    pretrained_model = model_dictionary[model_selection]\n",
    "    \n",
    "    # -------------------------------------------\n",
    "    # Loading training data (regression targets and input conformers)\n",
    "    \n",
    "    descriptor_df = pd.read_csv(descriptor_data_file, converters={\"bond_atom_tuple\": ast.literal_eval})\n",
    "    \n",
    "    merged_df = conformers_df.merge(descriptor_df, on = 'Name_int')\n",
    "    test_dataframe = merged_df[merged_df.split == 'test'].reset_index(drop = True)\n",
    "        \n",
    "    # -------------------------------------------\n",
    "    # creating model, optimizer, dataloaders\n",
    "    \n",
    "    device = \"cpu\" #torch.device(\"cuda\" if torch.cuda.is_available() else \"cpu\")\n",
    "    \n",
    "    if property_type == 'atom':\n",
    "        atom_ID_test = np.array(list(test_dataframe.atom_index), dtype = int)\n",
    "    else:\n",
    "        atom_ID_test = None\n",
    "    \n",
    "    if property_type == 'bond':\n",
    "        bond_ID_1_test = np.array(list(test_dataframe.bond_atom_tuple), dtype = int)[:, 0]\n",
    "        bond_ID_2_test = np.array(list(test_dataframe.bond_atom_tuple), dtype = int)[:, 1]\n",
    "    else:\n",
    "        bond_ID_1_test = None\n",
    "        bond_ID_2_test = None\n",
    "    \n",
    "    if keep_explicit_hydrogens:\n",
    "        mols_test = list(test_dataframe.mols)\n",
    "    else:\n",
    "        mols_test = list(test_dataframe.mols_noHs)\n",
    "    \n",
    "    test_dataset = Dataset_3D(\n",
    "        property_type = property_type,\n",
    "        mols = mols_test, \n",
    "        mol_types = list(test_dataframe['mol_type']),\n",
    "        targets = list(test_dataframe['y']),\n",
    "        ligand_ID = np.array(test_dataframe['Name_int']),\n",
    "        atom_ID = atom_ID_test,\n",
    "        bond_ID_1 = bond_ID_1_test,\n",
    "        bond_ID_2 = bond_ID_2_test,\n",
    "        remove_Hs_except_functional = remove_Hs_except_functional,\n",
    "    )\n",
    "    test_loader = torch_geometric.loader.DataLoader(\n",
    "        dataset = test_dataset,\n",
    "        batch_size = 100,\n",
    "        shuffle = False,\n",
    "        num_workers = num_workers,\n",
    "    )\n",
    "    \n",
    "    example_data = test_dataset[0]\n",
    "    atom_feature_dim = int(example_data.atom_features.shape[-1]) # 53\n",
    "    \n",
    "    model = DimeNetPlusPlus(\n",
    "        property_type = property_type, \n",
    "        use_atom_features = use_atom_features, \n",
    "        atom_feature_dim = atom_feature_dim if use_atom_features else 1, \n",
    "    )\n",
    "    if pretrained_model != '':\n",
    "        model.load_state_dict(torch.load(pretrained_model, map_location=next(model.parameters()).device), strict = True)\n",
    "    \n",
    "    model.to(device)\n",
    "    \n",
    "    # -------------------------------------------\n",
    "    # testing\n",
    "    \n",
    "    model.eval()\n",
    "    test_targets = []\n",
    "    test_pred_targets = []\n",
    "    for batch in tqdm(test_loader):\n",
    "        with torch.no_grad():\n",
    "            target, pred_target = loop(\n",
    "                model, \n",
    "                batch, \n",
    "                property_type = property_type, \n",
    "            )\n",
    "        test_targets.append(target)\n",
    "        test_pred_targets.append(pred_target)\n",
    "        \n",
    "    test_targets = np.concatenate(test_targets)\n",
    "    test_pred_targets = np.concatenate(test_pred_targets)\n",
    "    \n",
    "    test_results = pd.DataFrame()\n",
    "    test_results['Name_int'] = test_dataframe.Name_int\n",
    "    test_results['targets'] = test_targets\n",
    "    test_results['predictions'] = test_pred_targets\n",
    "    \n",
    "    test_results=test_results.groupby('Name_int').apply(lambda x: x.mean())\n",
    "    \n",
    "    #test_results.to_csv(f'test_set_predictions/{mol_type}_{property_type}_{prop}_{agg}.csv')\n",
    "    \n",
    "    test_MAE = np.mean(np.abs(np.array(test_results['targets']) - np.array(test_results['predictions'])))\n",
    "    test_R2 = np.corrcoef(np.array(test_results['targets']), np.array(test_results['predictions']))[0][1] ** 2\n",
    "    \n",
    "    print(model_selection)\n",
    "    print('    ','MAE:', test_MAE, 'R2:', test_R2)\n",
    "    "
   ]
  },
  {
   "cell_type": "code",
   "execution_count": null,
   "id": "80c04290-536a-4d26-bd7a-f4594f8dc14b",
   "metadata": {},
   "outputs": [],
   "source": []
  },
  {
   "cell_type": "code",
   "execution_count": null,
   "id": "8c71e872-dcc2-42d7-8c62-7884fadf0fdb",
   "metadata": {},
   "outputs": [],
   "source": []
  }
 ],
 "metadata": {
  "kernelspec": {
   "display_name": "Python 3 (ipykernel)",
   "language": "python",
   "name": "python3"
  },
  "language_info": {
   "codemirror_mode": {
    "name": "ipython",
    "version": 3
   },
   "file_extension": ".py",
   "mimetype": "text/x-python",
   "name": "python",
   "nbconvert_exporter": "python",
   "pygments_lexer": "ipython3",
   "version": "3.9.7"
  }
 },
 "nbformat": 4,
 "nbformat_minor": 5
}
