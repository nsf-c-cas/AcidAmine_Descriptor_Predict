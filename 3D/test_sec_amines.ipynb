{
 "cells": [
  {
   "cell_type": "code",
   "execution_count": 1,
   "id": "c32f2408-db7a-4edf-bd34-10c7b16cea63",
   "metadata": {},
   "outputs": [],
   "source": [
    "import torch\n",
    "import torch_geometric\n",
    "\n",
    "import pandas as pd\n",
    "import numpy as np\n",
    "\n",
    "import rdkit\n",
    "import rdkit.Chem\n",
    "import rdkit.Chem.AllChem\n",
    "from rdkit import Chem\n",
    "\n",
    "from tqdm import tqdm\n",
    "from copy import deepcopy\n",
    "import random\n",
    "import re\n",
    "import os\n",
    "import shutil\n",
    "import argparse\n",
    "import sys\n",
    "import ast\n",
    "\n",
    "from datasets.dataset_3D import *\n",
    "from models.dimenetpp import *\n"
   ]
  },
  {
   "cell_type": "code",
   "execution_count": 2,
   "id": "50655361-817f-48ba-9bf9-925fec270a6d",
   "metadata": {},
   "outputs": [],
   "source": [
    "model_dictionary = {\n",
    "\n",
    "    ('sec_amine', 'atom', 'NBO_LP_energy', 'Boltz'): 'trained_models/combined_amines/NBO_LP_energy/boltz/model_best.pt',\n",
    "    ('sec_amine', 'atom', 'NBO_LP_energy', 'max'):   'trained_models/combined_amines/NBO_LP_energy/max/model_best.pt',\n",
    "    ('sec_amine', 'atom', 'NBO_LP_energy', 'min'):   'trained_models/combined_amines/NBO_LP_energy/min/model_best.pt',\n",
    "    ('sec_amine', 'atom', 'NBO_LP_energy', 'lowE'): 'trained_models/combined_amines/NBO_LP_energy/min_E/model_best.pt',\n",
    "    \n",
    "    ('sec_amine', 'atom', 'NBO_LP_occupancy', 'Boltz'): 'trained_models/combined_amines/NBO_LP_occupancy/boltz/model_best.pt',\n",
    "    ('sec_amine', 'atom', 'NBO_LP_occupancy', 'max'):   'trained_models/combined_amines/NBO_LP_occupancy/max/model_best.pt',\n",
    "    ('sec_amine', 'atom', 'NBO_LP_occupancy', 'min'):   'trained_models/combined_amines/NBO_LP_occupancy/min/model_best.pt',\n",
    "    ('sec_amine', 'atom', 'NBO_LP_occupancy', 'lowE'): 'trained_models/combined_amines/NBO_LP_occupancy/min_E/model_best.pt',\n",
    "    \n",
    "    ('sec_amine', 'atom', 'NBO_charge_H', 'Boltz'): 'trained_models/sec_amines/NBO_charge_H/boltz/model_best.pt',\n",
    "    ('sec_amine', 'atom', 'NBO_charge_H', 'max'):   'trained_models/sec_amines/NBO_charge_H/max/model_best.pt',\n",
    "    ('sec_amine', 'atom', 'NBO_charge_H', 'min'):   'trained_models/sec_amines/NBO_charge_H/min/model_best.pt',\n",
    "    ('sec_amine', 'atom', 'NBO_charge_H', 'lowE'): 'trained_models/sec_amines/NBO_charge_H/min_E/model_best.pt',\n",
    "    \n",
    "    ('sec_amine', 'atom', 'NMR_shift_H', 'Boltz'): 'trained_models/sec_amines/NMR_shift_H/boltz/model_best.pt',\n",
    "    ('sec_amine', 'atom', 'NMR_shift_H', 'max'):   'trained_models/sec_amines/NMR_shift_H/max/model_best.pt',\n",
    "    ('sec_amine', 'atom', 'NMR_shift_H', 'min'):   'trained_models/sec_amines/NMR_shift_H/min/model_best.pt',\n",
    "    ('sec_amine', 'atom', 'NMR_shift_H', 'lowE'): 'trained_models/sec_amines/NMR_shift_H/min_E/model_best.pt',\n",
    "    \n",
    "    ('sec_amine', 'atom', 'Vbur', 'Boltz'): 'trained_models/combined_amines/Vbur/boltz/model_best.pt',\n",
    "    ('sec_amine', 'atom', 'Vbur', 'max'):   'trained_models/combined_amines/Vbur/max/model_best.pt',\n",
    "    ('sec_amine', 'atom', 'Vbur', 'min'):   'trained_models/combined_amines/Vbur/min/model_best.pt',\n",
    "    ('sec_amine', 'atom', 'Vbur', 'lowE'): 'trained_models/combined_amines/Vbur/min_E/model_best.pt',\n",
    "    \n",
    "    ('sec_amine', 'atom', 'pyr_agranat', 'Boltz'): 'trained_models/combined_amines/pyr_agranat/boltz/model_best.pt',\n",
    "    ('sec_amine', 'atom', 'pyr_agranat', 'max'):   'trained_models/combined_amines/pyr_agranat/max/model_best.pt',\n",
    "    ('sec_amine', 'atom', 'pyr_agranat', 'min'):   'trained_models/combined_amines/pyr_agranat/min/model_best.pt',\n",
    "    ('sec_amine', 'atom', 'pyr_agranat', 'lowE'): 'trained_models/combined_amines/pyr_agranat/min_E/model_best.pt',\n",
    "    \n",
    "    ('sec_amine', 'mol', 'dipole', 'Boltz'): 'trained_models/combined_amines/dipole/boltz/model_best.pt',\n",
    "    ('sec_amine', 'mol', 'dipole', 'max'):   'trained_models/combined_amines/dipole/max/model_best.pt',\n",
    "    ('sec_amine', 'mol', 'dipole', 'min'):   'trained_models/combined_amines/dipole/min/model_best.pt',\n",
    "    ('sec_amine', 'mol', 'dipole', 'lowE'): 'trained_models/combined_amines/dipole/min_E/model_best.pt',\n",
    "    \n",
    "}"
   ]
  },
  {
   "cell_type": "code",
   "execution_count": 3,
   "id": "faa2918d-f753-4d8f-83af-16cf204e7595",
   "metadata": {},
   "outputs": [],
   "source": [
    "num_workers = 4\n",
    "use_atom_features = 1\n",
    "\n",
    "conformer_data_file = 'data/3D_model_secondaryamine_rdkit_conformers.csv'\n",
    "conformers_df = pd.read_csv(conformer_data_file).reset_index(drop = True)\n",
    "conformers_df['mols'] = [rdkit.Chem.MolFromMolBlock(m, removeHs = False) for m in conformers_df.mol_block]\n",
    "conformers_df['mols_noHs'] = [rdkit.Chem.RemoveHs(m) for m in conformers_df['mols']]\n"
   ]
  },
  {
   "cell_type": "code",
   "execution_count": null,
   "id": "5fd104cb-a25e-4a03-8788-6b301d60acf2",
   "metadata": {},
   "outputs": [],
   "source": [
    "# testing loop definition\n",
    "\n",
    "def loop(model, batch, property_type = 'bond'):\n",
    "    \n",
    "    batch = batch.to(device)\n",
    "        \n",
    "    if property_type == 'bond':\n",
    "        out = model(\n",
    "            batch.x.squeeze(), \n",
    "            batch.pos, \n",
    "            batch.batch,\n",
    "            batch.atom_features,\n",
    "            select_bond_start_atom_index = batch.bond_start_ID_index,\n",
    "            select_bond_end_atom_index = batch.bond_end_ID_index,\n",
    "        )\n",
    "    \n",
    "    elif property_type == 'atom':\n",
    "        out = model(\n",
    "            batch.x.squeeze(),\n",
    "            batch.pos, \n",
    "            batch.batch,\n",
    "            batch.atom_features,\n",
    "            select_atom_index = batch.atom_ID_index,\n",
    "        )\n",
    "        \n",
    "    elif property_type == 'mol':\n",
    "        out = model(\n",
    "            batch.x.squeeze(),\n",
    "            batch.pos,\n",
    "            batch.batch,\n",
    "            batch.atom_features,\n",
    "        )\n",
    "    \n",
    "    targets = batch.targets\n",
    "    pred_targets = out[0].squeeze()\n",
    "    mse_loss = torch.mean(torch.square(targets - pred_targets))\n",
    "    mae = torch.mean(torch.abs(targets - pred_targets))    \n",
    "    \n",
    "    return targets.detach().cpu().numpy(), pred_targets.detach().cpu().numpy()\n"
   ]
  },
  {
   "cell_type": "code",
   "execution_count": 4,
   "id": "0a152a8f-39e1-4966-acb1-7c107519b829",
   "metadata": {},
   "outputs": [
    {
     "name": "stderr",
     "output_type": "stream",
     "text": [
      "100%|██████████| 57/57 [00:40<00:00,  1.39it/s]\n"
     ]
    },
    {
     "name": "stdout",
     "output_type": "stream",
     "text": [
      "('sec_amine', 'atom', 'NBO_LP_energy', 'Boltz')\n",
      "     MAE: 0.0024081594853037334 R2: 0.845303778662989\n"
     ]
    },
    {
     "name": "stderr",
     "output_type": "stream",
     "text": [
      "100%|██████████| 57/57 [01:03<00:00,  1.11s/it]\n"
     ]
    },
    {
     "name": "stdout",
     "output_type": "stream",
     "text": [
      "('sec_amine', 'atom', 'NBO_LP_energy', 'max')\n",
      "     MAE: 0.0038074796578012795 R2: 0.8037607601520149\n"
     ]
    },
    {
     "name": "stderr",
     "output_type": "stream",
     "text": [
      "100%|██████████| 57/57 [00:40<00:00,  1.41it/s]\n"
     ]
    },
    {
     "name": "stdout",
     "output_type": "stream",
     "text": [
      "('sec_amine', 'atom', 'NBO_LP_energy', 'min')\n",
      "     MAE: 0.002079426763526886 R2: 0.8853669807245566\n"
     ]
    },
    {
     "name": "stderr",
     "output_type": "stream",
     "text": [
      "100%|██████████| 57/57 [00:45<00:00,  1.25it/s]\n"
     ]
    },
    {
     "name": "stdout",
     "output_type": "stream",
     "text": [
      "('sec_amine', 'atom', 'NBO_LP_energy', 'lowE')\n",
      "     MAE: 0.003170346699086538 R2: 0.7791230817558149\n"
     ]
    },
    {
     "name": "stderr",
     "output_type": "stream",
     "text": [
      "100%|██████████| 57/57 [00:56<00:00,  1.01it/s]\n"
     ]
    },
    {
     "name": "stdout",
     "output_type": "stream",
     "text": [
      "('sec_amine', 'atom', 'NBO_LP_occupancy', 'Boltz')\n",
      "     MAE: 0.001378415578819183 R2: 0.7841043126400434\n"
     ]
    },
    {
     "name": "stderr",
     "output_type": "stream",
     "text": [
      "100%|██████████| 57/57 [00:41<00:00,  1.37it/s]\n"
     ]
    },
    {
     "name": "stdout",
     "output_type": "stream",
     "text": [
      "('sec_amine', 'atom', 'NBO_LP_occupancy', 'max')\n",
      "     MAE: 0.0015730067908045757 R2: 0.45890631884191585\n"
     ]
    },
    {
     "name": "stderr",
     "output_type": "stream",
     "text": [
      "100%|██████████| 57/57 [00:43<00:00,  1.30it/s]\n"
     ]
    },
    {
     "name": "stdout",
     "output_type": "stream",
     "text": [
      "('sec_amine', 'atom', 'NBO_LP_occupancy', 'min')\n",
      "     MAE: 0.0021843216026643194 R2: 0.741270307226808\n"
     ]
    },
    {
     "name": "stderr",
     "output_type": "stream",
     "text": [
      "100%|██████████| 57/57 [00:51<00:00,  1.10it/s]\n"
     ]
    },
    {
     "name": "stdout",
     "output_type": "stream",
     "text": [
      "('sec_amine', 'atom', 'NBO_LP_occupancy', 'lowE')\n",
      "     MAE: 0.00195109796332547 R2: 0.7273960123105808\n"
     ]
    },
    {
     "name": "stderr",
     "output_type": "stream",
     "text": [
      "100%|██████████| 57/57 [01:14<00:00,  1.30s/it]\n"
     ]
    },
    {
     "name": "stdout",
     "output_type": "stream",
     "text": [
      "('sec_amine', 'atom', 'NBO_charge_H', 'Boltz')\n",
      "     MAE: 0.0026984641470583566 R2: 0.7985223848416709\n"
     ]
    },
    {
     "name": "stderr",
     "output_type": "stream",
     "text": [
      "100%|██████████| 57/57 [01:10<00:00,  1.23s/it]\n"
     ]
    },
    {
     "name": "stdout",
     "output_type": "stream",
     "text": [
      "('sec_amine', 'atom', 'NBO_charge_H', 'max')\n",
      "     MAE: 0.0033872152069007538 R2: 0.762107592821542\n"
     ]
    },
    {
     "name": "stderr",
     "output_type": "stream",
     "text": [
      "100%|██████████| 57/57 [01:11<00:00,  1.25s/it]\n"
     ]
    },
    {
     "name": "stdout",
     "output_type": "stream",
     "text": [
      "('sec_amine', 'atom', 'NBO_charge_H', 'min')\n",
      "     MAE: 0.002854032449454189 R2: 0.6263734014241007\n"
     ]
    },
    {
     "name": "stderr",
     "output_type": "stream",
     "text": [
      "100%|██████████| 57/57 [01:08<00:00,  1.20s/it]\n"
     ]
    },
    {
     "name": "stdout",
     "output_type": "stream",
     "text": [
      "('sec_amine', 'atom', 'NBO_charge_H', 'lowE')\n",
      "     MAE: 0.0038267479364173 R2: 0.639389525647986\n"
     ]
    },
    {
     "name": "stderr",
     "output_type": "stream",
     "text": [
      "100%|██████████| 57/57 [01:12<00:00,  1.28s/it]\n"
     ]
    },
    {
     "name": "stdout",
     "output_type": "stream",
     "text": [
      "('sec_amine', 'atom', 'NMR_shift_H', 'Boltz')\n",
      "     MAE: 0.2196028491100633 R2: 0.6830932863073548\n"
     ]
    },
    {
     "name": "stderr",
     "output_type": "stream",
     "text": [
      "100%|██████████| 57/57 [01:12<00:00,  1.27s/it]\n"
     ]
    },
    {
     "name": "stdout",
     "output_type": "stream",
     "text": [
      "('sec_amine', 'atom', 'NMR_shift_H', 'max')\n",
      "     MAE: 0.22333299874301896 R2: 0.6403560829866938\n"
     ]
    },
    {
     "name": "stderr",
     "output_type": "stream",
     "text": [
      "100%|██████████| 57/57 [01:15<00:00,  1.32s/it]\n"
     ]
    },
    {
     "name": "stdout",
     "output_type": "stream",
     "text": [
      "('sec_amine', 'atom', 'NMR_shift_H', 'min')\n",
      "     MAE: 0.23051672479713778 R2: 0.7514558973085477\n"
     ]
    },
    {
     "name": "stderr",
     "output_type": "stream",
     "text": [
      "100%|██████████| 57/57 [01:20<00:00,  1.42s/it]\n"
     ]
    },
    {
     "name": "stdout",
     "output_type": "stream",
     "text": [
      "('sec_amine', 'atom', 'NMR_shift_H', 'lowE')\n",
      "     MAE: 0.30812358090197706 R2: 0.5412609145020595\n"
     ]
    },
    {
     "name": "stderr",
     "output_type": "stream",
     "text": [
      "100%|██████████| 57/57 [01:01<00:00,  1.07s/it]\n"
     ]
    },
    {
     "name": "stdout",
     "output_type": "stream",
     "text": [
      "('sec_amine', 'atom', 'Vbur', 'Boltz')\n",
      "     MAE: 0.641250135429413 R2: 0.9352503027577399\n"
     ]
    },
    {
     "name": "stderr",
     "output_type": "stream",
     "text": [
      "100%|██████████| 57/57 [00:48<00:00,  1.19it/s]\n"
     ]
    },
    {
     "name": "stdout",
     "output_type": "stream",
     "text": [
      "('sec_amine', 'atom', 'Vbur', 'max')\n",
      "     MAE: 1.2012775068780983 R2: 0.8785779029492834\n"
     ]
    },
    {
     "name": "stderr",
     "output_type": "stream",
     "text": [
      "100%|██████████| 57/57 [00:43<00:00,  1.30it/s]\n"
     ]
    },
    {
     "name": "stdout",
     "output_type": "stream",
     "text": [
      "('sec_amine', 'atom', 'Vbur', 'min')\n",
      "     MAE: 0.40453091969930505 R2: 0.9571938124314442\n"
     ]
    },
    {
     "name": "stderr",
     "output_type": "stream",
     "text": [
      "100%|██████████| 57/57 [00:49<00:00,  1.14it/s]\n"
     ]
    },
    {
     "name": "stdout",
     "output_type": "stream",
     "text": [
      "('sec_amine', 'atom', 'Vbur', 'lowE')\n",
      "     MAE: 0.915331568583906 R2: 0.8916808934044417\n"
     ]
    },
    {
     "name": "stderr",
     "output_type": "stream",
     "text": [
      "100%|██████████| 57/57 [00:39<00:00,  1.43it/s]\n"
     ]
    },
    {
     "name": "stdout",
     "output_type": "stream",
     "text": [
      "('sec_amine', 'atom', 'pyr_agranat', 'Boltz')\n",
      "     MAE: 0.008351488525130183 R2: 0.7918630058053182\n"
     ]
    },
    {
     "name": "stderr",
     "output_type": "stream",
     "text": [
      "100%|██████████| 57/57 [00:49<00:00,  1.14it/s]\n"
     ]
    },
    {
     "name": "stdout",
     "output_type": "stream",
     "text": [
      "('sec_amine', 'atom', 'pyr_agranat', 'max')\n",
      "     MAE: 0.007136650832302599 R2: 0.8625775767593991\n"
     ]
    },
    {
     "name": "stderr",
     "output_type": "stream",
     "text": [
      "100%|██████████| 57/57 [00:52<00:00,  1.08it/s]\n"
     ]
    },
    {
     "name": "stdout",
     "output_type": "stream",
     "text": [
      "('sec_amine', 'atom', 'pyr_agranat', 'min')\n",
      "     MAE: 0.01588471718581326 R2: 0.7024449225644213\n"
     ]
    },
    {
     "name": "stderr",
     "output_type": "stream",
     "text": [
      "100%|██████████| 57/57 [00:32<00:00,  1.74it/s]\n"
     ]
    },
    {
     "name": "stdout",
     "output_type": "stream",
     "text": [
      "('sec_amine', 'atom', 'pyr_agranat', 'lowE')\n",
      "     MAE: 0.01220511013724239 R2: 0.6100966854712868\n"
     ]
    },
    {
     "name": "stderr",
     "output_type": "stream",
     "text": [
      "100%|██████████| 57/57 [00:32<00:00,  1.73it/s]\n"
     ]
    },
    {
     "name": "stdout",
     "output_type": "stream",
     "text": [
      "('sec_amine', 'mol', 'dipole', 'Boltz')\n",
      "     MAE: 0.29944628267642487 R2: 0.8791248076565209\n"
     ]
    },
    {
     "name": "stderr",
     "output_type": "stream",
     "text": [
      "100%|██████████| 57/57 [00:31<00:00,  1.81it/s]\n"
     ]
    },
    {
     "name": "stdout",
     "output_type": "stream",
     "text": [
      "('sec_amine', 'mol', 'dipole', 'max')\n",
      "     MAE: 0.29921099381992616 R2: 0.9248958201124422\n"
     ]
    },
    {
     "name": "stderr",
     "output_type": "stream",
     "text": [
      "100%|██████████| 57/57 [00:28<00:00,  1.97it/s]\n"
     ]
    },
    {
     "name": "stdout",
     "output_type": "stream",
     "text": [
      "('sec_amine', 'mol', 'dipole', 'min')\n",
      "     MAE: 0.2929454683270081 R2: 0.8103380493954161\n"
     ]
    },
    {
     "name": "stderr",
     "output_type": "stream",
     "text": [
      "100%|██████████| 57/57 [00:29<00:00,  1.96it/s]\n"
     ]
    },
    {
     "name": "stdout",
     "output_type": "stream",
     "text": [
      "('sec_amine', 'mol', 'dipole', 'lowE')\n",
      "     MAE: 0.42748689603614043 R2: 0.8084231008413366\n"
     ]
    }
   ],
   "source": [
    "for model_selection in model_dictionary:\n",
    "    \n",
    "    keep_explicit_hydrogens = model_selection[2] in ['H5_NBO_charge', 'H5_NMR_shift', 'NBO_charge_H', 'NMR_shift_H']\n",
    "    remove_Hs_except_functional = 2 if keep_explicit_hydrogens else False\n",
    "    \n",
    "    mol_type = model_selection[0]\n",
    "    property_type = model_selection[1]\n",
    "    prop =  model_selection[2]\n",
    "    agg = model_selection[3]\n",
    "    \n",
    "    if mol_type == 'acid':\n",
    "        descriptor_data_file = f'data/acid/{property_type}/{prop}_{agg}.csv'\n",
    "    if mol_type == 'amine':\n",
    "        try:\n",
    "            descriptor_data_file = f'data/combined_amine/{property_type}/{prop}_{agg}.csv'\n",
    "            descriptor_df = pd.read_csv(descriptor_data_file, converters={\"bond_atom_tuple\": ast.literal_eval})\n",
    "        except:\n",
    "            descriptor_data_file = f'data/primary_amine/{property_type}/{prop}_{agg}.csv'\n",
    "            descriptor_df = pd.read_csv(descriptor_data_file, converters={\"bond_atom_tuple\": ast.literal_eval})\n",
    "    if mol_type == 'sec_amine':\n",
    "        try:\n",
    "            descriptor_data_file = f'data/combined_amine/{property_type}/{prop}_{agg}.csv'\n",
    "            descriptor_df = pd.read_csv(descriptor_data_file, converters={\"bond_atom_tuple\": ast.literal_eval})\n",
    "        except:\n",
    "            descriptor_data_file = f'data/secondary_amine/{property_type}/{prop}_{agg}.csv'\n",
    "            descriptor_df = pd.read_csv(descriptor_data_file, converters={\"bond_atom_tuple\": ast.literal_eval})\n",
    "        \n",
    "    \n",
    "    pretrained_model = model_dictionary[model_selection]\n",
    "    \n",
    "    # -------------------------------------------\n",
    "    # Loading training data (regression targets and input conformers)\n",
    "    \n",
    "    descriptor_df = pd.read_csv(descriptor_data_file, converters={\"bond_atom_tuple\": ast.literal_eval})\n",
    "    \n",
    "    merged_df = conformers_df.merge(descriptor_df, on = 'Name_int')\n",
    "    test_dataframe = merged_df[merged_df.split == 'test'].reset_index(drop = True)\n",
    "        \n",
    "    # -------------------------------------------\n",
    "    # creating model, optimizer, dataloaders\n",
    "    \n",
    "    device = \"cpu\" #torch.device(\"cuda\" if torch.cuda.is_available() else \"cpu\")\n",
    "    \n",
    "    if property_type == 'atom':\n",
    "        atom_ID_test = np.array(list(test_dataframe.atom_index), dtype = int)\n",
    "    else:\n",
    "        atom_ID_test = None\n",
    "    \n",
    "    if property_type == 'bond':\n",
    "        bond_ID_1_test = np.array(list(test_dataframe.bond_atom_tuple), dtype = int)[:, 0]\n",
    "        bond_ID_2_test = np.array(list(test_dataframe.bond_atom_tuple), dtype = int)[:, 1]\n",
    "    else:\n",
    "        bond_ID_1_test = None\n",
    "        bond_ID_2_test = None\n",
    "    \n",
    "    if keep_explicit_hydrogens:\n",
    "        mols_test = list(test_dataframe.mols)\n",
    "    else:\n",
    "        mols_test = list(test_dataframe.mols_noHs)\n",
    "    \n",
    "    test_dataset = Dataset_3D(\n",
    "        property_type = property_type,\n",
    "        mols = mols_test, \n",
    "        mol_types = list(test_dataframe['mol_type']),\n",
    "        targets = list(test_dataframe['y']),\n",
    "        ligand_ID = np.array(test_dataframe['Name_int']),\n",
    "        atom_ID = atom_ID_test,\n",
    "        bond_ID_1 = bond_ID_1_test,\n",
    "        bond_ID_2 = bond_ID_2_test,\n",
    "        remove_Hs_except_functional = remove_Hs_except_functional,\n",
    "    )\n",
    "    test_loader = torch_geometric.loader.DataLoader(\n",
    "        dataset = test_dataset,\n",
    "        batch_size = 100,\n",
    "        shuffle = False,\n",
    "        num_workers = num_workers,\n",
    "    )\n",
    "    \n",
    "    example_data = test_dataset[0]\n",
    "    atom_feature_dim = int(example_data.atom_features.shape[-1]) # 53\n",
    "    \n",
    "    model = DimeNetPlusPlus(\n",
    "        property_type = property_type, \n",
    "        use_atom_features = use_atom_features, \n",
    "        atom_feature_dim = atom_feature_dim if use_atom_features else 1, \n",
    "    )\n",
    "    if pretrained_model != '':\n",
    "        model.load_state_dict(torch.load(pretrained_model, map_location=next(model.parameters()).device), strict = True)\n",
    "    \n",
    "    model.to(device)\n",
    "    \n",
    "        \n",
    "    # -------------------------------------------\n",
    "    # testing\n",
    "    \n",
    "    model.eval()\n",
    "    test_targets = []\n",
    "    test_pred_targets = []\n",
    "    for batch in tqdm(test_loader):\n",
    "        with torch.no_grad():\n",
    "            target, pred_target = loop(\n",
    "                model, \n",
    "                batch, \n",
    "                property_type = property_type, \n",
    "            )\n",
    "        test_targets.append(target)\n",
    "        test_pred_targets.append(pred_target)\n",
    "        \n",
    "    test_targets = np.concatenate(test_targets)\n",
    "    test_pred_targets = np.concatenate(test_pred_targets)\n",
    "    \n",
    "    test_results = pd.DataFrame()\n",
    "    test_results['Name_int'] = test_dataframe.Name_int\n",
    "    test_results['targets'] = test_targets\n",
    "    test_results['predictions'] = test_pred_targets\n",
    "    \n",
    "    test_results=test_results.groupby('Name_int').apply(lambda x: x.mean())\n",
    "    \n",
    "    #test_results.to_csv(f'test_set_predictions/{mol_type}_{property_type}_{prop}_{agg}.csv')\n",
    "    \n",
    "    test_MAE = np.mean(np.abs(np.array(test_results['targets']) - np.array(test_results['predictions'])))\n",
    "    test_R2 = np.corrcoef(np.array(test_results['targets']), np.array(test_results['predictions']))[0][1] ** 2\n",
    "    \n",
    "    print(model_selection)\n",
    "    print('    ','MAE:', test_MAE, 'R2:', test_R2)\n",
    "    "
   ]
  },
  {
   "cell_type": "code",
   "execution_count": null,
   "id": "80c04290-536a-4d26-bd7a-f4594f8dc14b",
   "metadata": {},
   "outputs": [],
   "source": []
  },
  {
   "cell_type": "code",
   "execution_count": null,
   "id": "8c71e872-dcc2-42d7-8c62-7884fadf0fdb",
   "metadata": {},
   "outputs": [],
   "source": []
  }
 ],
 "metadata": {
  "kernelspec": {
   "display_name": "Python 3 (ipykernel)",
   "language": "python",
   "name": "python3"
  },
  "language_info": {
   "codemirror_mode": {
    "name": "ipython",
    "version": 3
   },
   "file_extension": ".py",
   "mimetype": "text/x-python",
   "name": "python",
   "nbconvert_exporter": "python",
   "pygments_lexer": "ipython3",
   "version": "3.9.7"
  }
 },
 "nbformat": 4,
 "nbformat_minor": 5
}
