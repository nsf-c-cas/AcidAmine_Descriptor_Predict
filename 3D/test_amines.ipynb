{
 "cells": [
  {
   "cell_type": "code",
   "execution_count": 4,
   "id": "c32f2408-db7a-4edf-bd34-10c7b16cea63",
   "metadata": {},
   "outputs": [],
   "source": [
    "import torch\n",
    "import torch_geometric\n",
    "\n",
    "import pandas as pd\n",
    "import numpy as np\n",
    "\n",
    "import rdkit\n",
    "import rdkit.Chem\n",
    "import rdkit.Chem.AllChem\n",
    "from rdkit import Chem\n",
    "\n",
    "from tqdm import tqdm\n",
    "from copy import deepcopy\n",
    "import random\n",
    "import re\n",
    "import os\n",
    "import shutil\n",
    "import argparse\n",
    "import sys\n",
    "import ast\n",
    "\n",
    "from datasets.dataset_3D import *\n",
    "from models.dimenetpp import *\n"
   ]
  },
  {
   "cell_type": "code",
   "execution_count": 5,
   "id": "50655361-817f-48ba-9bf9-925fec270a6d",
   "metadata": {},
   "outputs": [],
   "source": [
    "model_dictionary = {\n",
    "    ('amine', 'atom', 'NBO_LP_energy', 'Boltz'): 'trained_models/combined_amines/NBO_LP_energy/boltz/model_best.pt',\n",
    "    ('amine', 'atom', 'NBO_LP_energy', 'max'):   'trained_models/combined_amines/NBO_LP_energy/max/model_best.pt',\n",
    "    ('amine', 'atom', 'NBO_LP_energy', 'min'):   'trained_models/combined_amines/NBO_LP_energy/min/model_best.pt',\n",
    "    ('amine', 'atom', 'NBO_LP_energy', 'lowE'): 'trained_models/combined_amines/NBO_LP_energy/min_E/model_best.pt',\n",
    "    \n",
    "    ('amine', 'atom', 'NBO_LP_occupancy', 'Boltz'): 'trained_models/combined_amines/NBO_LP_occupancy/boltz/model_best.pt',\n",
    "    ('amine', 'atom', 'NBO_LP_occupancy', 'max'):   'trained_models/combined_amines/NBO_LP_occupancy/max/model_best.pt',\n",
    "    ('amine', 'atom', 'NBO_LP_occupancy', 'min'):   'trained_models/combined_amines/NBO_LP_occupancy/min/model_best.pt',\n",
    "    ('amine', 'atom', 'NBO_LP_occupancy', 'lowE'): 'trained_models/combined_amines/NBO_LP_occupancy/min_E/model_best.pt',\n",
    "    \n",
    "    ('amine', 'atom', 'pyr_agranat', 'Boltz'): 'trained_models/combined_amines/pyr_agranat/boltz/model_best.pt',\n",
    "    ('amine', 'atom', 'pyr_agranat', 'max'):   'trained_models/combined_amines/pyr_agranat/max/model_best.pt',\n",
    "    ('amine', 'atom', 'pyr_agranat', 'min'):   'trained_models/combined_amines/pyr_agranat/min/model_best.pt',\n",
    "    ('amine', 'atom', 'pyr_agranat', 'lowE'): 'trained_models/combined_amines/pyr_agranat/min_E/model_best.pt',\n",
    "    \n",
    "    ('amine', 'atom', 'Vbur', 'Boltz'): 'trained_models/combined_amines/Vbur/boltz/model_best.pt',\n",
    "    ('amine', 'atom', 'Vbur', 'max'):   'trained_models/combined_amines/Vbur/max/model_best.pt',\n",
    "    ('amine', 'atom', 'Vbur', 'min'):   'trained_models/combined_amines/Vbur/min/model_best.pt',\n",
    "    ('amine', 'atom', 'Vbur', 'lowE'): 'trained_models/combined_amines/Vbur/min_E/model_best.pt',\n",
    "    \n",
    "    ('amine', 'bond', 'Sterimol_B1', 'Boltz'): 'trained_models/amines/Sterimol_B1/boltz/model_best.pt',\n",
    "    ('amine', 'bond', 'Sterimol_B1', 'max'):   'trained_models/amines/Sterimol_B1/max/model_best.pt',\n",
    "    ('amine', 'bond', 'Sterimol_B1', 'min'):   'trained_models/amines/Sterimol_B1/min/model_best.pt',\n",
    "    ('amine', 'bond', 'Sterimol_B1', 'lowE'): 'trained_models/amines/Sterimol_B1/min_E/model_best.pt',\n",
    "    \n",
    "    ('amine', 'bond', 'Sterimol_B5', 'Boltz'): 'trained_models/amines/Sterimol_B5/boltz/model_best.pt',\n",
    "    ('amine', 'bond', 'Sterimol_B5', 'max'):   'trained_models/amines/Sterimol_B5/max/model_best.pt',\n",
    "    ('amine', 'bond', 'Sterimol_B5', 'min'):   'trained_models/amines/Sterimol_B5/min/model_best.pt',\n",
    "    ('amine', 'bond', 'Sterimol_B5', 'lowE'): 'trained_models/amines/Sterimol_B5/min_E/model_best.pt',\n",
    "    \n",
    "    ('amine', 'bond', 'Sterimol_L', 'Boltz'): 'trained_models/amines/Sterimol_L/boltz/model_best.pt',\n",
    "    ('amine', 'bond', 'Sterimol_L', 'max'):   'trained_models/amines/Sterimol_L/max/model_best.pt',\n",
    "    ('amine', 'bond', 'Sterimol_L', 'min'):   'trained_models/amines/Sterimol_L/min/model_best.pt',\n",
    "    ('amine', 'bond', 'Sterimol_L', 'lowE'): 'trained_models/amines/Sterimol_L/min_E/model_best.pt',\n",
    "\n",
    "    ('amine', 'mol', 'dipole', 'Boltz'): 'trained_models/combined_amines/dipole/boltz/model_best.pt',\n",
    "    ('amine', 'mol', 'dipole', 'max'):   'trained_models/combined_amines/dipole/max/model_best.pt',\n",
    "    ('amine', 'mol', 'dipole', 'min'):   'trained_models/combined_amines/dipole/min/model_best.pt',\n",
    "    ('amine', 'mol', 'dipole', 'lowE'): 'trained_models/combined_amines/dipole/min_E/model_best.pt',\n",
    "    \n",
    "}"
   ]
  },
  {
   "cell_type": "code",
   "execution_count": 6,
   "id": "faa2918d-f753-4d8f-83af-16cf204e7595",
   "metadata": {},
   "outputs": [],
   "source": [
    "num_workers = 4\n",
    "use_atom_features = 1\n",
    "\n",
    "conformer_data_file = 'data/3D_model_primaryamine_rdkit_conformers.csv'\n",
    "conformers_df = pd.read_csv(conformer_data_file).reset_index(drop = True)\n",
    "conformers_df['mols'] = [rdkit.Chem.MolFromMolBlock(m, removeHs = False) for m in conformers_df.mol_block]\n",
    "conformers_df['mols_noHs'] = [rdkit.Chem.RemoveHs(m) for m in conformers_df['mols']]\n"
   ]
  },
  {
   "cell_type": "code",
   "execution_count": null,
   "id": "4d50726b-170b-4b29-a32e-3e113bd19188",
   "metadata": {},
   "outputs": [],
   "source": [
    "# testing loop definition\n",
    "\n",
    "def loop(model, batch, property_type = 'bond'):\n",
    "    \n",
    "    batch = batch.to(device)\n",
    "        \n",
    "    if property_type == 'bond':\n",
    "        out = model(\n",
    "            batch.x.squeeze(), \n",
    "            batch.pos, \n",
    "            batch.batch,\n",
    "            batch.atom_features,\n",
    "            select_bond_start_atom_index = batch.bond_start_ID_index,\n",
    "            select_bond_end_atom_index = batch.bond_end_ID_index,\n",
    "        )\n",
    "    \n",
    "    elif property_type == 'atom':\n",
    "        out = model(\n",
    "            batch.x.squeeze(),\n",
    "            batch.pos, \n",
    "            batch.batch,\n",
    "            batch.atom_features,\n",
    "            select_atom_index = batch.atom_ID_index,\n",
    "        )\n",
    "        \n",
    "    elif property_type == 'mol':\n",
    "        out = model(\n",
    "            batch.x.squeeze(),\n",
    "            batch.pos,\n",
    "            batch.batch,\n",
    "            batch.atom_features,\n",
    "        )\n",
    "    \n",
    "    targets = batch.targets\n",
    "    pred_targets = out[0].squeeze()\n",
    "    mse_loss = torch.mean(torch.square(targets - pred_targets))\n",
    "    mae = torch.mean(torch.abs(targets - pred_targets))    \n",
    "    \n",
    "    return targets.detach().cpu().numpy(), pred_targets.detach().cpu().numpy()\n"
   ]
  },
  {
   "cell_type": "code",
   "execution_count": 7,
   "id": "0a152a8f-39e1-4966-acb1-7c107519b829",
   "metadata": {},
   "outputs": [
    {
     "name": "stderr",
     "output_type": "stream",
     "text": [
      "100%|██████████| 49/49 [00:21<00:00,  2.32it/s]\n"
     ]
    },
    {
     "name": "stdout",
     "output_type": "stream",
     "text": [
      "('amine', 'atom', 'NBO_LP_energy', 'Boltz')\n",
      "     MAE: 0.0021559334838921244 R2: 0.8744058369844313\n"
     ]
    },
    {
     "name": "stderr",
     "output_type": "stream",
     "text": [
      "100%|██████████| 49/49 [00:33<00:00,  1.47it/s]\n"
     ]
    },
    {
     "name": "stdout",
     "output_type": "stream",
     "text": [
      "('amine', 'atom', 'NBO_LP_energy', 'max')\n",
      "     MAE: 0.002756369198382142 R2: 0.881383000730126\n"
     ]
    },
    {
     "name": "stderr",
     "output_type": "stream",
     "text": [
      "100%|██████████| 49/49 [00:58<00:00,  1.20s/it]\n"
     ]
    },
    {
     "name": "stdout",
     "output_type": "stream",
     "text": [
      "('amine', 'atom', 'NBO_LP_energy', 'min')\n",
      "     MAE: 0.0021762033464454928 R2: 0.854570859277051\n"
     ]
    },
    {
     "name": "stderr",
     "output_type": "stream",
     "text": [
      "100%|██████████| 49/49 [00:22<00:00,  2.19it/s]\n"
     ]
    },
    {
     "name": "stdout",
     "output_type": "stream",
     "text": [
      "('amine', 'atom', 'NBO_LP_energy', 'lowE')\n",
      "     MAE: 0.003323667203849144 R2: 0.7591541927223369\n"
     ]
    },
    {
     "name": "stderr",
     "output_type": "stream",
     "text": [
      "100%|██████████| 49/49 [00:28<00:00,  1.72it/s]\n"
     ]
    },
    {
     "name": "stdout",
     "output_type": "stream",
     "text": [
      "('amine', 'atom', 'NBO_LP_occupancy', 'Boltz')\n",
      "     MAE: 0.001559238684804816 R2: 0.7166697087367544\n"
     ]
    },
    {
     "name": "stderr",
     "output_type": "stream",
     "text": [
      "100%|██████████| 49/49 [00:32<00:00,  1.52it/s]\n"
     ]
    },
    {
     "name": "stdout",
     "output_type": "stream",
     "text": [
      "('amine', 'atom', 'NBO_LP_occupancy', 'max')\n",
      "     MAE: 0.0012873555967199658 R2: 0.673442586688349\n"
     ]
    },
    {
     "name": "stderr",
     "output_type": "stream",
     "text": [
      "100%|██████████| 49/49 [00:49<00:00,  1.00s/it]\n"
     ]
    },
    {
     "name": "stdout",
     "output_type": "stream",
     "text": [
      "('amine', 'atom', 'NBO_LP_occupancy', 'min')\n",
      "     MAE: 0.001816798800881575 R2: 0.6734128354577366\n"
     ]
    },
    {
     "name": "stderr",
     "output_type": "stream",
     "text": [
      "100%|██████████| 49/49 [00:19<00:00,  2.45it/s]\n"
     ]
    },
    {
     "name": "stdout",
     "output_type": "stream",
     "text": [
      "('amine', 'atom', 'NBO_LP_occupancy', 'lowE')\n",
      "     MAE: 0.002374567242286466 R2: 0.4875954423923603\n"
     ]
    },
    {
     "name": "stderr",
     "output_type": "stream",
     "text": [
      "100%|██████████| 49/49 [00:29<00:00,  1.65it/s]\n"
     ]
    },
    {
     "name": "stdout",
     "output_type": "stream",
     "text": [
      "('amine', 'atom', 'pyr_agranat', 'Boltz')\n",
      "     MAE: 0.005175400359427881 R2: 0.678986041296753\n"
     ]
    },
    {
     "name": "stderr",
     "output_type": "stream",
     "text": [
      "100%|██████████| 49/49 [00:30<00:00,  1.60it/s]\n"
     ]
    },
    {
     "name": "stdout",
     "output_type": "stream",
     "text": [
      "('amine', 'atom', 'pyr_agranat', 'max')\n",
      "     MAE: 0.00464439355892691 R2: 0.7635226096649155\n"
     ]
    },
    {
     "name": "stderr",
     "output_type": "stream",
     "text": [
      "100%|██████████| 49/49 [00:43<00:00,  1.13it/s]\n"
     ]
    },
    {
     "name": "stdout",
     "output_type": "stream",
     "text": [
      "('amine', 'atom', 'pyr_agranat', 'min')\n",
      "     MAE: 0.006828647876075405 R2: 0.5346238918058296\n"
     ]
    },
    {
     "name": "stderr",
     "output_type": "stream",
     "text": [
      "100%|██████████| 49/49 [00:45<00:00,  1.08it/s]\n"
     ]
    },
    {
     "name": "stdout",
     "output_type": "stream",
     "text": [
      "('amine', 'atom', 'pyr_agranat', 'lowE')\n",
      "     MAE: 0.007824058112827872 R2: 0.5111512026550787\n"
     ]
    },
    {
     "name": "stderr",
     "output_type": "stream",
     "text": [
      "100%|██████████| 49/49 [00:29<00:00,  1.65it/s]\n"
     ]
    },
    {
     "name": "stdout",
     "output_type": "stream",
     "text": [
      "('amine', 'atom', 'Vbur', 'Boltz')\n",
      "     MAE: 0.7652666810070455 R2: 0.8531777790153916\n"
     ]
    },
    {
     "name": "stderr",
     "output_type": "stream",
     "text": [
      "100%|██████████| 49/49 [00:33<00:00,  1.47it/s]\n"
     ]
    },
    {
     "name": "stdout",
     "output_type": "stream",
     "text": [
      "('amine', 'atom', 'Vbur', 'max')\n",
      "     MAE: 1.3585899677353832 R2: 0.7807469476908689\n"
     ]
    },
    {
     "name": "stderr",
     "output_type": "stream",
     "text": [
      "100%|██████████| 49/49 [00:31<00:00,  1.57it/s]\n"
     ]
    },
    {
     "name": "stdout",
     "output_type": "stream",
     "text": [
      "('amine', 'atom', 'Vbur', 'min')\n",
      "     MAE: 0.3764705812400169 R2: 0.938014194451951\n"
     ]
    },
    {
     "name": "stderr",
     "output_type": "stream",
     "text": [
      "100%|██████████| 49/49 [00:56<00:00,  1.16s/it]\n"
     ]
    },
    {
     "name": "stdout",
     "output_type": "stream",
     "text": [
      "('amine', 'atom', 'Vbur', 'lowE')\n",
      "     MAE: 1.276686046770227 R2: 0.680498664022833\n"
     ]
    },
    {
     "name": "stderr",
     "output_type": "stream",
     "text": [
      "100%|██████████| 49/49 [00:30<00:00,  1.63it/s]\n"
     ]
    },
    {
     "name": "stdout",
     "output_type": "stream",
     "text": [
      "('amine', 'bond', 'Sterimol_B1', 'Boltz')\n",
      "     MAE: 0.06347293096032702 R2: 0.8682309555357262\n"
     ]
    },
    {
     "name": "stderr",
     "output_type": "stream",
     "text": [
      "100%|██████████| 49/49 [00:32<00:00,  1.49it/s]\n"
     ]
    },
    {
     "name": "stdout",
     "output_type": "stream",
     "text": [
      "('amine', 'bond', 'Sterimol_B1', 'max')\n",
      "     MAE: 0.11714816720862138 R2: 0.785294302957384\n"
     ]
    },
    {
     "name": "stderr",
     "output_type": "stream",
     "text": [
      "100%|██████████| 49/49 [01:00<00:00,  1.23s/it]\n"
     ]
    },
    {
     "name": "stdout",
     "output_type": "stream",
     "text": [
      "('amine', 'bond', 'Sterimol_B1', 'min')\n",
      "     MAE: 0.021661810064122745 R2: 0.9588853803955562\n"
     ]
    },
    {
     "name": "stderr",
     "output_type": "stream",
     "text": [
      "100%|██████████| 49/49 [00:40<00:00,  1.22it/s]\n"
     ]
    },
    {
     "name": "stdout",
     "output_type": "stream",
     "text": [
      "('amine', 'bond', 'Sterimol_B1', 'lowE')\n",
      "     MAE: 0.08855620931517258 R2: 0.7323202355876627\n"
     ]
    },
    {
     "name": "stderr",
     "output_type": "stream",
     "text": [
      "100%|██████████| 49/49 [00:30<00:00,  1.62it/s]\n"
     ]
    },
    {
     "name": "stdout",
     "output_type": "stream",
     "text": [
      "('amine', 'bond', 'Sterimol_B5', 'Boltz')\n",
      "     MAE: 0.3732281440665365 R2: 0.8247837243147924\n"
     ]
    },
    {
     "name": "stderr",
     "output_type": "stream",
     "text": [
      "100%|██████████| 49/49 [01:03<00:00,  1.29s/it]\n"
     ]
    },
    {
     "name": "stdout",
     "output_type": "stream",
     "text": [
      "('amine', 'bond', 'Sterimol_B5', 'max')\n",
      "     MAE: 0.2702093553929194 R2: 0.9415711442082542\n"
     ]
    },
    {
     "name": "stderr",
     "output_type": "stream",
     "text": [
      "100%|██████████| 49/49 [00:46<00:00,  1.06it/s]\n"
     ]
    },
    {
     "name": "stdout",
     "output_type": "stream",
     "text": [
      "('amine', 'bond', 'Sterimol_B5', 'min')\n",
      "     MAE: 0.3145484340335676 R2: 0.8254921770739141\n"
     ]
    },
    {
     "name": "stderr",
     "output_type": "stream",
     "text": [
      "100%|██████████| 49/49 [00:35<00:00,  1.37it/s]\n"
     ]
    },
    {
     "name": "stdout",
     "output_type": "stream",
     "text": [
      "('amine', 'bond', 'Sterimol_B5', 'lowE')\n",
      "     MAE: 0.6326232559767812 R2: 0.632962845281481\n"
     ]
    },
    {
     "name": "stderr",
     "output_type": "stream",
     "text": [
      "100%|██████████| 49/49 [00:52<00:00,  1.08s/it]\n"
     ]
    },
    {
     "name": "stdout",
     "output_type": "stream",
     "text": [
      "('amine', 'bond', 'Sterimol_L', 'Boltz')\n",
      "     MAE: 0.4622803776852998 R2: 0.5485634733660868\n"
     ]
    },
    {
     "name": "stderr",
     "output_type": "stream",
     "text": [
      "100%|██████████| 49/49 [00:41<00:00,  1.17it/s]\n"
     ]
    },
    {
     "name": "stdout",
     "output_type": "stream",
     "text": [
      "('amine', 'bond', 'Sterimol_L', 'max')\n",
      "     MAE: 0.49409236888653835 R2: 0.829760226281683\n"
     ]
    },
    {
     "name": "stderr",
     "output_type": "stream",
     "text": [
      "100%|██████████| 49/49 [00:28<00:00,  1.70it/s]\n"
     ]
    },
    {
     "name": "stdout",
     "output_type": "stream",
     "text": [
      "('amine', 'bond', 'Sterimol_L', 'min')\n",
      "     MAE: 0.2029010129843646 R2: 0.731000131885836\n"
     ]
    },
    {
     "name": "stderr",
     "output_type": "stream",
     "text": [
      "100%|██████████| 49/49 [00:25<00:00,  1.92it/s]\n"
     ]
    },
    {
     "name": "stdout",
     "output_type": "stream",
     "text": [
      "('amine', 'bond', 'Sterimol_L', 'lowE')\n",
      "     MAE: 0.8314848245396788 R2: 0.26382518881885475\n"
     ]
    },
    {
     "name": "stderr",
     "output_type": "stream",
     "text": [
      "100%|██████████| 49/49 [00:37<00:00,  1.29it/s]\n"
     ]
    },
    {
     "name": "stdout",
     "output_type": "stream",
     "text": [
      "('amine', 'mol', 'dipole', 'Boltz')\n",
      "     MAE: 0.30824603601867856 R2: 0.8334346624210046\n"
     ]
    },
    {
     "name": "stderr",
     "output_type": "stream",
     "text": [
      "100%|██████████| 49/49 [00:29<00:00,  1.67it/s]\n"
     ]
    },
    {
     "name": "stdout",
     "output_type": "stream",
     "text": [
      "('amine', 'mol', 'dipole', 'max')\n",
      "     MAE: 0.3140860234013936 R2: 0.8865966872100713\n"
     ]
    },
    {
     "name": "stderr",
     "output_type": "stream",
     "text": [
      "100%|██████████| 49/49 [00:45<00:00,  1.08it/s]\n"
     ]
    },
    {
     "name": "stdout",
     "output_type": "stream",
     "text": [
      "('amine', 'mol', 'dipole', 'min')\n",
      "     MAE: 0.31920078408862895 R2: 0.7311354429918763\n"
     ]
    },
    {
     "name": "stderr",
     "output_type": "stream",
     "text": [
      "100%|██████████| 49/49 [00:45<00:00,  1.09it/s]\n"
     ]
    },
    {
     "name": "stdout",
     "output_type": "stream",
     "text": [
      "('amine', 'mol', 'dipole', 'lowE')\n",
      "     MAE: 0.4911697904469996 R2: 0.6835344215960967\n"
     ]
    }
   ],
   "source": [
    "for model_selection in model_dictionary:\n",
    "    \n",
    "    keep_explicit_hydrogens = model_selection[2] in ['H5_NBO_charge', 'H5_NMR_shift', 'NBO_charge_H_avg', 'NBO_charge_H_min', 'NMR_shift_H_avg', 'NBO_charge_H', 'NMR_shift_H']\n",
    "    remove_Hs_except_functional = 2 if keep_explicit_hydrogens else False\n",
    "    \n",
    "    mol_type = model_selection[0]\n",
    "    property_type = model_selection[1]\n",
    "    prop =  model_selection[2]\n",
    "    agg = model_selection[3]\n",
    "    \n",
    "    if mol_type == 'acid':\n",
    "        descriptor_data_file = f'data/acid/{property_type}/{prop}_{agg}.csv'\n",
    "    if mol_type == 'amine':\n",
    "        try:\n",
    "            descriptor_data_file = f'data/combined_amine/{property_type}/{prop}_{agg}.csv'\n",
    "            descriptor_df = pd.read_csv(descriptor_data_file, converters={\"bond_atom_tuple\": ast.literal_eval})\n",
    "        except:\n",
    "            descriptor_data_file = f'data/primary_amine/{property_type}/{prop}_{agg}.csv'\n",
    "            descriptor_df = pd.read_csv(descriptor_data_file, converters={\"bond_atom_tuple\": ast.literal_eval})\n",
    "    if mol_type == 'sec_amine':\n",
    "        try:\n",
    "            descriptor_data_file = f'data/combined_amine/{property_type}/{prop}_{agg}.csv'\n",
    "            descriptor_df = pd.read_csv(descriptor_data_file, converters={\"bond_atom_tuple\": ast.literal_eval})\n",
    "        except:\n",
    "            descriptor_data_file = f'data/secondary_amine/{property_type}/{prop}_{agg}.csv'\n",
    "            descriptor_df = pd.read_csv(descriptor_data_file, converters={\"bond_atom_tuple\": ast.literal_eval})\n",
    "        \n",
    "    \n",
    "    pretrained_model = model_dictionary[model_selection]\n",
    "    \n",
    "    # -------------------------------------------\n",
    "    # Loading training data (regression targets and input conformers)\n",
    "    \n",
    "    descriptor_df = pd.read_csv(descriptor_data_file, converters={\"bond_atom_tuple\": ast.literal_eval})\n",
    "    \n",
    "    merged_df = conformers_df.merge(descriptor_df, on = 'Name_int')\n",
    "    test_dataframe = merged_df[merged_df.split == 'test'].reset_index(drop = True)\n",
    "        \n",
    "    # -------------------------------------------\n",
    "    # creating model, optimizer, dataloaders\n",
    "    \n",
    "    device = \"cpu\" #torch.device(\"cuda\" if torch.cuda.is_available() else \"cpu\")\n",
    "    \n",
    "    if property_type == 'atom':\n",
    "        atom_ID_test = np.array(list(test_dataframe.atom_index), dtype = int)\n",
    "    else:\n",
    "        atom_ID_test = None\n",
    "    \n",
    "    if property_type == 'bond':\n",
    "        bond_ID_1_test = np.array(list(test_dataframe.bond_atom_tuple), dtype = int)[:, 0]\n",
    "        bond_ID_2_test = np.array(list(test_dataframe.bond_atom_tuple), dtype = int)[:, 1]\n",
    "    else:\n",
    "        bond_ID_1_test = None\n",
    "        bond_ID_2_test = None\n",
    "    \n",
    "    if keep_explicit_hydrogens:\n",
    "        mols_test = list(test_dataframe.mols)\n",
    "    else:\n",
    "        mols_test = list(test_dataframe.mols_noHs)\n",
    "    \n",
    "    test_dataset = Dataset_3D(\n",
    "        property_type = property_type,\n",
    "        mols = mols_test, \n",
    "        mol_types = list(test_dataframe['mol_type']),\n",
    "        targets = list(test_dataframe['y']),\n",
    "        ligand_ID = np.array(test_dataframe['Name_int']),\n",
    "        atom_ID = atom_ID_test,\n",
    "        bond_ID_1 = bond_ID_1_test,\n",
    "        bond_ID_2 = bond_ID_2_test,\n",
    "        remove_Hs_except_functional = remove_Hs_except_functional,\n",
    "    )\n",
    "    test_loader = torch_geometric.loader.DataLoader(\n",
    "        dataset = test_dataset,\n",
    "        batch_size = 100,\n",
    "        shuffle = False,\n",
    "        num_workers = num_workers,\n",
    "    )\n",
    "    \n",
    "    example_data = test_dataset[0]\n",
    "    atom_feature_dim = int(example_data.atom_features.shape[-1]) # 53\n",
    "    \n",
    "    model = DimeNetPlusPlus(\n",
    "        property_type = property_type, \n",
    "        use_atom_features = use_atom_features, \n",
    "        atom_feature_dim = atom_feature_dim if use_atom_features else 1, \n",
    "    )\n",
    "    if pretrained_model != '':\n",
    "        model.load_state_dict(torch.load(pretrained_model, map_location=next(model.parameters()).device), strict = True)\n",
    "    \n",
    "    model.to(device)\n",
    "    \n",
    "    # -------------------------------------------\n",
    "    # testing\n",
    "    \n",
    "    model.eval()\n",
    "    test_targets = []\n",
    "    test_pred_targets = []\n",
    "    for batch in tqdm(test_loader):\n",
    "        with torch.no_grad():\n",
    "            target, pred_target = loop(\n",
    "                model, \n",
    "                batch, \n",
    "                property_type = property_type, \n",
    "            )\n",
    "        test_targets.append(target)\n",
    "        test_pred_targets.append(pred_target)\n",
    "        \n",
    "    test_targets = np.concatenate(test_targets)\n",
    "    test_pred_targets = np.concatenate(test_pred_targets)\n",
    "    \n",
    "    test_results = pd.DataFrame()\n",
    "    test_results['Name_int'] = test_dataframe.Name_int\n",
    "    test_results['targets'] = test_targets\n",
    "    test_results['predictions'] = test_pred_targets\n",
    "    \n",
    "    test_results=test_results.groupby('Name_int').apply(lambda x: x.mean())\n",
    "    \n",
    "    #test_results.to_csv(f'test_set_predictions/{mol_type}_{property_type}_{prop}_{agg}.csv')\n",
    "    \n",
    "    test_MAE = np.mean(np.abs(np.array(test_results['targets']) - np.array(test_results['predictions'])))\n",
    "    test_R2 = np.corrcoef(np.array(test_results['targets']), np.array(test_results['predictions']))[0][1] ** 2\n",
    "    \n",
    "    print(model_selection)\n",
    "    print('    ','MAE:', test_MAE, 'R2:', test_R2)\n",
    "    "
   ]
  },
  {
   "cell_type": "code",
   "execution_count": null,
   "id": "80c04290-536a-4d26-bd7a-f4594f8dc14b",
   "metadata": {},
   "outputs": [],
   "source": []
  },
  {
   "cell_type": "code",
   "execution_count": null,
   "id": "8c71e872-dcc2-42d7-8c62-7884fadf0fdb",
   "metadata": {},
   "outputs": [],
   "source": []
  }
 ],
 "metadata": {
  "kernelspec": {
   "display_name": "Python [conda env:.conda-amide_coupling]",
   "language": "python",
   "name": "conda-env-.conda-amide_coupling-py"
  },
  "language_info": {
   "codemirror_mode": {
    "name": "ipython",
    "version": 3
   },
   "file_extension": ".py",
   "mimetype": "text/x-python",
   "name": "python",
   "nbconvert_exporter": "python",
   "pygments_lexer": "ipython3",
   "version": "3.10.8"
  }
 },
 "nbformat": 4,
 "nbformat_minor": 5
}
