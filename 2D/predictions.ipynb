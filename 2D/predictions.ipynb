{
 "cells": [
  {
   "cell_type": "code",
   "execution_count": 4,
   "id": "5624ef53-6615-48d8-8b83-f3d97b15cff1",
   "metadata": {
    "tags": []
   },
   "outputs": [],
   "source": [
    "import torch\n",
    "import torch_geometric\n",
    "from datasets.dataset_2D import Dataset_2D\n",
    "from models.models_2d import GNN2D\n",
    "\n",
    "import pandas as pd\n",
    "import numpy as np\n",
    "import rdkit\n",
    "import rdkit.Chem\n",
    "import rdkit.Chem.AllChem\n",
    "from rdkit import Chem\n",
    "from tqdm import tqdm\n",
    "from copy import deepcopy\n",
    "import random\n",
    "import re\n",
    "import os\n",
    "import shutil\n",
    "import argparse\n",
    "import sys\n",
    "\n",
    "from utils import *"
   ]
  },
  {
   "cell_type": "code",
   "execution_count": 21,
   "id": "86551f25-3ea2-4f00-a6e9-48bf42c1668f",
   "metadata": {
    "tags": []
   },
   "outputs": [],
   "source": [
    "device = torch.device(\"cpu\") # Do not try to run on a GPU.\n",
    "N_cpus = os.cpu_count() # Set as high as possible (given machine limits) "
   ]
  },
  {
   "cell_type": "code",
   "execution_count": 22,
   "id": "cc153961-db26-4ce1-b857-be5febd07595",
   "metadata": {
    "tags": []
   },
   "outputs": [],
   "source": [
    "# supported descriptors\n",
    "properties = {\n",
    "    'acids_bond': [\n",
    "        'IR_freq', \n",
    "        'Sterimol_B1', \n",
    "        'Sterimol_B5', \n",
    "        'Sterimol_L',\n",
    "    ],\n",
    "    'acids_mol': [\n",
    "        'dipole',\n",
    "        'HOMO',\n",
    "        'LUMO', \n",
    "        'polar_aniso',\n",
    "        'polar_iso',\n",
    "        'SASA_surface_area', \n",
    "        'SASA_volume',\n",
    "    ],\n",
    "    'acids_atom': [\n",
    "        'C1_NBO_charge',\n",
    "        'C1_NMR_shift',\n",
    "        'C1_V_bur',\n",
    "        'C4_NBO_charge',\n",
    "        'C4_NMR_shift',\n",
    "        'C4_V_bur',\n",
    "        'O2_NBO_charge',\n",
    "        'O3_NBO_charge',\n",
    "        'H5_NBO_charge',\n",
    "        'H5_NMR_shift',\n",
    "    ],\n",
    "\n",
    "    'pamine_mol': [\n",
    "        'dipole',\n",
    "        'HOMO',\n",
    "        'LUMO', \n",
    "        'polar_aniso',\n",
    "        'polar_iso',\n",
    "        'SASA_surface_area', \n",
    "        'SASA_volume',\n",
    "    ],\n",
    "    'pamine_bond': [\n",
    "        'Sterimol_B1',\n",
    "        'Sterimol_B5',\n",
    "        'Sterimol_L',\n",
    "    ],\n",
    "    'pamine_atom': [\n",
    "        'N1_NBO_charge',\n",
    "        'N1_NMR_shift',\n",
    "        'N1_pyrd_Ar',\n",
    "        'N1_NBO_LP_energy',\n",
    "        'N1_NBO_LP_occupancy',\n",
    "        'N1_V_bur',\n",
    "        'C2_NBO_charge',\n",
    "        'C2_NMR_shift',\n",
    "        'H3_NBO_charge_avg',\n",
    "        'H3_NBO_charge_min',\n",
    "        'H3_NMR_shift_avg',\n",
    "        'H4_NBO_charge_avg',\n",
    "        'H4_NBO_charge_min',\n",
    "        'H4_NMR_shift_avg'\n",
    "    ],\n",
    "    \n",
    "    'samine_mol': [\n",
    "        'dipole',\n",
    "        'HOMO',\n",
    "        'LUMO', \n",
    "        'polar_aniso',\n",
    "        'polar_iso',\n",
    "        'SASA_surface_area', \n",
    "        'SASA_volume',\n",
    "    ],\n",
    "    'samine_atom': [\n",
    "        'N1_NBO_charge',\n",
    "        'N1_NMR_shift',\n",
    "        'N1_pyrd_Ar',\n",
    "        'N1_NBO_LP_energy',\n",
    "        'N1_NBO_LP_occupancy',\n",
    "        'N1_V_bur',\n",
    "        'H4_NBO_charge',\n",
    "        'H4_NMR_shift',\n",
    "    ],\n",
    "}\n",
    "\n",
    "property_aggregations = ['boltz', 'max', 'min', 'min_E']"
   ]
  },
  {
   "cell_type": "code",
   "execution_count": 23,
   "id": "c3164f6c-ec4f-4f13-97ca-45df33aa44ac",
   "metadata": {
    "tags": []
   },
   "outputs": [],
   "source": [
    "## supported models - creating paths to models automatically (will choose combined models when appropriate)\n",
    "model_dictionary = {}\n",
    "atom_selection_dictionary = {}\n",
    "\n",
    "for key in properties.keys():\n",
    "    for prop in properties[key]:\n",
    "        for agg in property_aggregations:\n",
    "            \n",
    "            ###model_dictionary\n",
    "            entry = (key.split('_')[0], key.split('_')[1], prop, agg)\n",
    "            \n",
    "            if key.split('_')[0] =='acids':\n",
    "                model_dictionary[entry] = f'trained_models/acids/{prop}/{agg}/model_best.pt'\n",
    "            \n",
    "            if key.split('_')[0] =='pamine' and key.split('_')[1] =='mol':\n",
    "                model_dictionary[entry] = f'trained_models/combined_amines/{prop}/{agg}/model_best.pt'\n",
    "            \n",
    "            if key.split('_')[0] =='pamine' and key.split('_')[1] =='bond':\n",
    "                model_dictionary[entry] = f'trained_models/amines/{prop}/{agg}/model_best.pt'\n",
    "            \n",
    "            if key.split('_')[0] =='pamine' and key.split('_')[1] =='atom':\n",
    "                atom_type = prop.split('_')[0]\n",
    "                if atom_type == 'N1':\n",
    "                    model_dictionary[entry] = f'trained_models/combined_amines/{prop}/{agg}/model_best.pt'\n",
    "                if atom_type == 'C2':\n",
    "                    model_dictionary[entry] = f'trained_models/amines/{prop}/{agg}/model_best.pt'\n",
    "                if atom_type in ['H3','H4']:\n",
    "                    model_dictionary[entry] = f'trained_models/amines/{prop}/{agg}/model_best.pt'\n",
    "                    \n",
    "            if key.split('_')[0] =='samine' and key.split('_')[1] =='mol':\n",
    "                model_dictionary[entry] = f'trained_models/combined_amines/{prop}/{agg}/model_best.pt'\n",
    "            \n",
    "            if key.split('_')[0] =='samine' and key.split('_')[1] =='atom':\n",
    "                atom_type = prop.split('_')[0]\n",
    "                if atom_type == 'N1':\n",
    "                    model_dictionary[entry] = f'trained_models/combined_amines/{prop}/{agg}/model_best.pt'\n",
    "                if atom_type in ['H4']:\n",
    "                    model_dictionary[entry] = f'trained_models/sec_amines/{prop}/{agg}/model_best.pt'\n",
    "                    \n",
    "            ###atom_selection_dictionary\n",
    "            if key.split('_')[1] in ['atom']:\n",
    "                entry_atom = (key.split('_')[0], key.split('_')[1], prop)\n",
    "                atom_selection_dictionary[entry_atom] = prop.split('_')[0]\n",
    "            \n",
    "            if key.split('_')[0] =='acids' and key.split('_')[1] == 'bond' and prop == 'IR_freq':\n",
    "                entry_atom = (key.split('_')[0], key.split('_')[1], prop)\n",
    "                atom_selection_dictionary[entry_atom] = ('C1', 'O2')\n",
    "            \n",
    "            if key.split('_')[0] =='acids' and key.split('_')[1] == 'bond' and prop in ['Sterimol_B1','Sterimol_B5','Sterimol_L']:\n",
    "                entry_atom = (key.split('_')[0], key.split('_')[1], prop)\n",
    "                atom_selection_dictionary[entry_atom] = ('C1', 'C4')\n",
    "            \n",
    "            if key.split('_')[0] =='pamine' and key.split('_')[1] == 'bond':\n",
    "                entry_atom = (key.split('_')[0], key.split('_')[1], prop)\n",
    "                atom_selection_dictionary[entry_atom] = ('N1', 'C2')"
   ]
  },
  {
   "cell_type": "code",
   "execution_count": 24,
   "id": "d9ff61eb-e3c7-43f6-8768-f4ed3d03cedf",
   "metadata": {
    "tags": []
   },
   "outputs": [],
   "source": [
    "# Enter your SMILES here!"
   ]
  },
  {
   "cell_type": "code",
   "execution_count": 25,
   "id": "00641f28-6aca-4086-8747-7ad37ae0bc45",
   "metadata": {
    "tags": []
   },
   "outputs": [
    {
     "data": {
      "text/html": [
       "<div>\n",
       "<style scoped>\n",
       "    .dataframe tbody tr th:only-of-type {\n",
       "        vertical-align: middle;\n",
       "    }\n",
       "\n",
       "    .dataframe tbody tr th {\n",
       "        vertical-align: top;\n",
       "    }\n",
       "\n",
       "    .dataframe thead th {\n",
       "        text-align: right;\n",
       "    }\n",
       "</style>\n",
       "<table border=\"1\" class=\"dataframe\">\n",
       "  <thead>\n",
       "    <tr style=\"text-align: right;\">\n",
       "      <th></th>\n",
       "      <th>mols</th>\n",
       "      <th>mols_noHs</th>\n",
       "      <th>smiles</th>\n",
       "      <th>canon_smiles</th>\n",
       "      <th>C1</th>\n",
       "      <th>O2</th>\n",
       "      <th>O3</th>\n",
       "      <th>C4</th>\n",
       "      <th>H5</th>\n",
       "    </tr>\n",
       "  </thead>\n",
       "  <tbody>\n",
       "    <tr>\n",
       "      <th>0</th>\n",
       "      <td>&lt;rdkit.Chem.rdchem.Mol object at 0x1554ff1d1fc0&gt;</td>\n",
       "      <td>&lt;rdkit.Chem.rdchem.Mol object at 0x1554ffb18a60&gt;</td>\n",
       "      <td>O=C(O)[C@H](Br)CBr</td>\n",
       "      <td>O=C(O)[C@H](Br)CBr</td>\n",
       "      <td>1</td>\n",
       "      <td>0</td>\n",
       "      <td>2</td>\n",
       "      <td>3</td>\n",
       "      <td>7</td>\n",
       "    </tr>\n",
       "    <tr>\n",
       "      <th>1</th>\n",
       "      <td>&lt;rdkit.Chem.rdchem.Mol object at 0x1554ff1d2020&gt;</td>\n",
       "      <td>&lt;rdkit.Chem.rdchem.Mol object at 0x1554ffb18220&gt;</td>\n",
       "      <td>CCCCCCCCCCCCCCCCCCCCCC(=O)O</td>\n",
       "      <td>CCCCCCCCCCCCCCCCCCCCCC(=O)O</td>\n",
       "      <td>21</td>\n",
       "      <td>22</td>\n",
       "      <td>23</td>\n",
       "      <td>20</td>\n",
       "      <td>67</td>\n",
       "    </tr>\n",
       "    <tr>\n",
       "      <th>2</th>\n",
       "      <td>&lt;rdkit.Chem.rdchem.Mol object at 0x1554ff1d2080&gt;</td>\n",
       "      <td>&lt;rdkit.Chem.rdchem.Mol object at 0x1554ffb18520&gt;</td>\n",
       "      <td>C=C(CC)C(=O)c1ccc(OCC(=O)O)c(Cl)c1Cl</td>\n",
       "      <td>C=C(CC)C(=O)c1ccc(OCC(=O)O)c(Cl)c1Cl</td>\n",
       "      <td>12</td>\n",
       "      <td>13</td>\n",
       "      <td>14</td>\n",
       "      <td>11</td>\n",
       "      <td>30</td>\n",
       "    </tr>\n",
       "  </tbody>\n",
       "</table>\n",
       "</div>"
      ],
      "text/plain": [
       "                                               mols  \\\n",
       "0  <rdkit.Chem.rdchem.Mol object at 0x1554ff1d1fc0>   \n",
       "1  <rdkit.Chem.rdchem.Mol object at 0x1554ff1d2020>   \n",
       "2  <rdkit.Chem.rdchem.Mol object at 0x1554ff1d2080>   \n",
       "\n",
       "                                          mols_noHs  \\\n",
       "0  <rdkit.Chem.rdchem.Mol object at 0x1554ffb18a60>   \n",
       "1  <rdkit.Chem.rdchem.Mol object at 0x1554ffb18220>   \n",
       "2  <rdkit.Chem.rdchem.Mol object at 0x1554ffb18520>   \n",
       "\n",
       "                                 smiles                          canon_smiles  \\\n",
       "0                    O=C(O)[C@H](Br)CBr                    O=C(O)[C@H](Br)CBr   \n",
       "1           CCCCCCCCCCCCCCCCCCCCCC(=O)O           CCCCCCCCCCCCCCCCCCCCCC(=O)O   \n",
       "2  C=C(CC)C(=O)c1ccc(OCC(=O)O)c(Cl)c1Cl  C=C(CC)C(=O)c1ccc(OCC(=O)O)c(Cl)c1Cl   \n",
       "\n",
       "   C1  O2  O3  C4  H5  \n",
       "0   1   0   2   3   7  \n",
       "1  21  22  23  20  67  \n",
       "2  12  13  14  11  30  "
      ]
     },
     "execution_count": 25,
     "metadata": {},
     "output_type": "execute_result"
    }
   ],
   "source": [
    "molecule_type = 'acids'\n",
    "\n",
    "# list of SMILES of the molecule_type (list must include all amines or all acids)\n",
    "smiles_list = [\n",
    "    'O=C(O)[C@H](Br)CBr', \n",
    "    'CCCCCCCCCCCCCCCCCCCCCC(=O)O',\n",
    "    'C=C(CC)C(=O)c1ccc(OCC(=O)O)c(Cl)c1Cl', \n",
    "]\n",
    "\n",
    "# SELECT ALL MODELED PROPERTIES\n",
    "acid_model_selections = [key for key in model_dictionary if key[0] == molecule_type] \n",
    "\n",
    "# # ... OR MANUALLY SELECT A SUBSET\n",
    "# acid_model_selections = [\n",
    "#     ('acids', 'atom', 'C1_V_bur', 'boltz'),\n",
    "#     ('acids', 'atom', 'C1_NBO_charge', 'boltz'),\n",
    "#     ('acids', 'bond', 'IR_freq', 'boltz'), \n",
    "# ]\n",
    "\n",
    "# generate mols for prediction \n",
    "acid_dataframe = generate_dataframe(smiles_list, molecule_type, N_cpus = N_cpus)\n",
    "acid_dataframe"
   ]
  },
  {
   "cell_type": "code",
   "execution_count": 26,
   "id": "60c9a6e9-2ad1-4ff1-b484-07670d2b1cbd",
   "metadata": {
    "tags": []
   },
   "outputs": [
    {
     "data": {
      "text/html": [
       "<div>\n",
       "<style scoped>\n",
       "    .dataframe tbody tr th:only-of-type {\n",
       "        vertical-align: middle;\n",
       "    }\n",
       "\n",
       "    .dataframe tbody tr th {\n",
       "        vertical-align: top;\n",
       "    }\n",
       "\n",
       "    .dataframe thead th {\n",
       "        text-align: right;\n",
       "    }\n",
       "</style>\n",
       "<table border=\"1\" class=\"dataframe\">\n",
       "  <thead>\n",
       "    <tr style=\"text-align: right;\">\n",
       "      <th></th>\n",
       "      <th>mols</th>\n",
       "      <th>mols_noHs</th>\n",
       "      <th>smiles</th>\n",
       "      <th>canon_smiles</th>\n",
       "      <th>N1</th>\n",
       "      <th>C2</th>\n",
       "      <th>H3</th>\n",
       "      <th>H4</th>\n",
       "    </tr>\n",
       "  </thead>\n",
       "  <tbody>\n",
       "    <tr>\n",
       "      <th>0</th>\n",
       "      <td>&lt;rdkit.Chem.rdchem.Mol object at 0x1554ff1d3160&gt;</td>\n",
       "      <td>&lt;rdkit.Chem.rdchem.Mol object at 0x1554ff32f340&gt;</td>\n",
       "      <td>NCC1CCCCC1</td>\n",
       "      <td>NCC1CCCCC1</td>\n",
       "      <td>0</td>\n",
       "      <td>1</td>\n",
       "      <td>8</td>\n",
       "      <td>9</td>\n",
       "    </tr>\n",
       "    <tr>\n",
       "      <th>1</th>\n",
       "      <td>&lt;rdkit.Chem.rdchem.Mol object at 0x1554ff1d3040&gt;</td>\n",
       "      <td>&lt;rdkit.Chem.rdchem.Mol object at 0x1554ff32c640&gt;</td>\n",
       "      <td>CC(C)(C)C(N)CC1CCCCC1</td>\n",
       "      <td>CC(C)(C)C(N)CC1CCCCC1</td>\n",
       "      <td>5</td>\n",
       "      <td>4</td>\n",
       "      <td>23</td>\n",
       "      <td>24</td>\n",
       "    </tr>\n",
       "  </tbody>\n",
       "</table>\n",
       "</div>"
      ],
      "text/plain": [
       "                                               mols  \\\n",
       "0  <rdkit.Chem.rdchem.Mol object at 0x1554ff1d3160>   \n",
       "1  <rdkit.Chem.rdchem.Mol object at 0x1554ff1d3040>   \n",
       "\n",
       "                                          mols_noHs                 smiles  \\\n",
       "0  <rdkit.Chem.rdchem.Mol object at 0x1554ff32f340>             NCC1CCCCC1   \n",
       "1  <rdkit.Chem.rdchem.Mol object at 0x1554ff32c640>  CC(C)(C)C(N)CC1CCCCC1   \n",
       "\n",
       "            canon_smiles  N1  C2  H3  H4  \n",
       "0             NCC1CCCCC1   0   1   8   9  \n",
       "1  CC(C)(C)C(N)CC1CCCCC1   5   4  23  24  "
      ]
     },
     "execution_count": 26,
     "metadata": {},
     "output_type": "execute_result"
    }
   ],
   "source": [
    "molecule_type = 'pamine'\n",
    "\n",
    "# list of SMILES of the molecule_type (list must include all amines or all acids)\n",
    "smiles_list = [\n",
    "    'NCC1CCCCC1', \n",
    "    'CC(C)(C)C(N)CC1CCCCC1',\n",
    "]\n",
    "\n",
    "# SELECT ALL MODELED PROPERTIES\n",
    "#amine_model_selections = [key for key in model_dictionary if key[0] == molecule_type] \n",
    "\n",
    "# ... OR MANUALLY SELECT A SUBSET\n",
    "amine_model_selections = [\n",
    "    ('pamine', 'bond', 'Sterimol_B1', 'boltz'),\n",
    "    ('pamine', 'atom', 'N1_NBO_LP_energy', 'max'),\n",
    "    ('pamine', 'atom', 'N1_pyrd_Ar', 'boltz'),\n",
    "    ('pamine', 'mol', 'HOMO', 'boltz'),\n",
    "    \n",
    "]\n",
    "# generate mols for prediction \n",
    "amine_dataframe = generate_dataframe(smiles_list, molecule_type, N_cpus = N_cpus)\n",
    "amine_dataframe"
   ]
  },
  {
   "cell_type": "code",
   "execution_count": 27,
   "id": "63642efc-2178-423a-8082-1fabdf9d46fd",
   "metadata": {
    "tags": []
   },
   "outputs": [
    {
     "data": {
      "text/html": [
       "<div>\n",
       "<style scoped>\n",
       "    .dataframe tbody tr th:only-of-type {\n",
       "        vertical-align: middle;\n",
       "    }\n",
       "\n",
       "    .dataframe tbody tr th {\n",
       "        vertical-align: top;\n",
       "    }\n",
       "\n",
       "    .dataframe thead th {\n",
       "        text-align: right;\n",
       "    }\n",
       "</style>\n",
       "<table border=\"1\" class=\"dataframe\">\n",
       "  <thead>\n",
       "    <tr style=\"text-align: right;\">\n",
       "      <th></th>\n",
       "      <th>mols</th>\n",
       "      <th>mols_noHs</th>\n",
       "      <th>smiles</th>\n",
       "      <th>canon_smiles</th>\n",
       "      <th>N1</th>\n",
       "      <th>H4</th>\n",
       "      <th>C1</th>\n",
       "      <th>C2</th>\n",
       "    </tr>\n",
       "  </thead>\n",
       "  <tbody>\n",
       "    <tr>\n",
       "      <th>0</th>\n",
       "      <td>&lt;rdkit.Chem.rdchem.Mol object at 0x1554ff1d3880&gt;</td>\n",
       "      <td>&lt;rdkit.Chem.rdchem.Mol object at 0x1554ff32ea40&gt;</td>\n",
       "      <td>Cc1cccc2c1CNCC2</td>\n",
       "      <td>Cc1cccc2c1CNCC2</td>\n",
       "      <td>8</td>\n",
       "      <td>19</td>\n",
       "      <td>7</td>\n",
       "      <td>9</td>\n",
       "    </tr>\n",
       "    <tr>\n",
       "      <th>1</th>\n",
       "      <td>&lt;rdkit.Chem.rdchem.Mol object at 0x1554ff1d3e20&gt;</td>\n",
       "      <td>&lt;rdkit.Chem.rdchem.Mol object at 0x1554ff32eb60&gt;</td>\n",
       "      <td>Cc1cc(N2CCNCC2)c2ccccc2n1</td>\n",
       "      <td>Cc1cc(N2CCNCC2)c2ccccc2n1</td>\n",
       "      <td>7</td>\n",
       "      <td>25</td>\n",
       "      <td>6</td>\n",
       "      <td>8</td>\n",
       "    </tr>\n",
       "    <tr>\n",
       "      <th>2</th>\n",
       "      <td>&lt;rdkit.Chem.rdchem.Mol object at 0x1554ff1d3a00&gt;</td>\n",
       "      <td>&lt;rdkit.Chem.rdchem.Mol object at 0x1554ff32e800&gt;</td>\n",
       "      <td>CN[C@H](C)c1ccccn1</td>\n",
       "      <td>CN[C@H](C)c1ccccn1</td>\n",
       "      <td>1</td>\n",
       "      <td>13</td>\n",
       "      <td>0</td>\n",
       "      <td>2</td>\n",
       "    </tr>\n",
       "  </tbody>\n",
       "</table>\n",
       "</div>"
      ],
      "text/plain": [
       "                                               mols  \\\n",
       "0  <rdkit.Chem.rdchem.Mol object at 0x1554ff1d3880>   \n",
       "1  <rdkit.Chem.rdchem.Mol object at 0x1554ff1d3e20>   \n",
       "2  <rdkit.Chem.rdchem.Mol object at 0x1554ff1d3a00>   \n",
       "\n",
       "                                          mols_noHs  \\\n",
       "0  <rdkit.Chem.rdchem.Mol object at 0x1554ff32ea40>   \n",
       "1  <rdkit.Chem.rdchem.Mol object at 0x1554ff32eb60>   \n",
       "2  <rdkit.Chem.rdchem.Mol object at 0x1554ff32e800>   \n",
       "\n",
       "                      smiles               canon_smiles  N1  H4  C1  C2  \n",
       "0            Cc1cccc2c1CNCC2            Cc1cccc2c1CNCC2   8  19   7   9  \n",
       "1  Cc1cc(N2CCNCC2)c2ccccc2n1  Cc1cc(N2CCNCC2)c2ccccc2n1   7  25   6   8  \n",
       "2         CN[C@H](C)c1ccccn1         CN[C@H](C)c1ccccn1   1  13   0   2  "
      ]
     },
     "execution_count": 27,
     "metadata": {},
     "output_type": "execute_result"
    }
   ],
   "source": [
    "molecule_type = 'samine'\n",
    "\n",
    "# list of SMILES of the molecule_type (list must include all amines or all acids)\n",
    "smiles_list = [\n",
    "    'Cc1cccc2c1CNCC2', \n",
    "    'Cc1cc(N2CCNCC2)c2ccccc2n1',\n",
    "    'CN[C@H](C)c1ccccn1',\n",
    "]\n",
    "\n",
    "# SELECT ALL MODELED PROPERTIES\n",
    "#sec_amine_model_selections = [key for key in model_dictionary if key[0] == molecule_type] \n",
    "\n",
    "# ... OR MANUALLY SELECT A SUBSET\n",
    "sec_amine_model_selections = [\n",
    "    ('samine', 'atom', 'N1_pyrd_Ar', 'boltz'),\n",
    "    ('samine', 'atom', 'H4_NBO_charge', 'boltz'),\n",
    "    ('samine', 'atom', 'N1_V_bur', 'min_E'),\n",
    "    ('samine', 'mol', 'HOMO', 'boltz'),\n",
    "    \n",
    "]\n",
    "\n",
    "# generate mols for prediction \n",
    "sec_amine_dataframe = generate_dataframe(smiles_list, molecule_type, N_cpus = N_cpus)\n",
    "sec_amine_dataframe"
   ]
  },
  {
   "cell_type": "code",
   "execution_count": 28,
   "id": "9c0cfaf7-15c0-46d5-a641-320303d95e13",
   "metadata": {
    "tags": []
   },
   "outputs": [
    {
     "name": "stdout",
     "output_type": "stream",
     "text": [
      "loading model: ('acids', 'bond', 'IR_freq', 'boltz')\n",
      "    making predictions:\n"
     ]
    },
    {
     "name": "stderr",
     "output_type": "stream",
     "text": [
      "100%|██████████| 1/1 [00:00<00:00, 65.53it/s]\n"
     ]
    },
    {
     "name": "stdout",
     "output_type": "stream",
     "text": [
      "loading model: ('acids', 'bond', 'IR_freq', 'max')\n",
      "    making predictions:\n"
     ]
    },
    {
     "name": "stderr",
     "output_type": "stream",
     "text": [
      "100%|██████████| 1/1 [00:00<00:00, 68.79it/s]\n"
     ]
    },
    {
     "name": "stdout",
     "output_type": "stream",
     "text": [
      "loading model: ('acids', 'bond', 'IR_freq', 'min')\n",
      "    making predictions:\n"
     ]
    },
    {
     "name": "stderr",
     "output_type": "stream",
     "text": [
      "100%|██████████| 1/1 [00:00<00:00, 66.11it/s]\n"
     ]
    },
    {
     "name": "stdout",
     "output_type": "stream",
     "text": [
      "loading model: ('acids', 'bond', 'IR_freq', 'min_E')\n",
      "    making predictions:\n"
     ]
    },
    {
     "name": "stderr",
     "output_type": "stream",
     "text": [
      "100%|██████████| 1/1 [00:00<00:00, 70.54it/s]\n"
     ]
    },
    {
     "name": "stdout",
     "output_type": "stream",
     "text": [
      "loading model: ('acids', 'bond', 'Sterimol_B1', 'boltz')\n",
      "    making predictions:\n"
     ]
    },
    {
     "name": "stderr",
     "output_type": "stream",
     "text": [
      "100%|██████████| 1/1 [00:00<00:00, 70.47it/s]\n"
     ]
    },
    {
     "name": "stdout",
     "output_type": "stream",
     "text": [
      "loading model: ('acids', 'bond', 'Sterimol_B1', 'max')\n",
      "    making predictions:\n"
     ]
    },
    {
     "name": "stderr",
     "output_type": "stream",
     "text": [
      "100%|██████████| 1/1 [00:00<00:00, 71.14it/s]\n"
     ]
    },
    {
     "name": "stdout",
     "output_type": "stream",
     "text": [
      "loading model: ('acids', 'bond', 'Sterimol_B1', 'min')\n",
      "    making predictions:\n"
     ]
    },
    {
     "name": "stderr",
     "output_type": "stream",
     "text": [
      "100%|██████████| 1/1 [00:00<00:00, 70.71it/s]"
     ]
    },
    {
     "name": "stdout",
     "output_type": "stream",
     "text": [
      "loading model: ('acids', 'bond', 'Sterimol_B1', 'min_E')\n"
     ]
    },
    {
     "name": "stderr",
     "output_type": "stream",
     "text": [
      "\n"
     ]
    },
    {
     "name": "stdout",
     "output_type": "stream",
     "text": [
      "    making predictions:\n"
     ]
    },
    {
     "name": "stderr",
     "output_type": "stream",
     "text": [
      "100%|██████████| 1/1 [00:00<00:00, 70.60it/s]\n"
     ]
    },
    {
     "name": "stdout",
     "output_type": "stream",
     "text": [
      "loading model: ('acids', 'bond', 'Sterimol_B5', 'boltz')\n",
      "    making predictions:\n"
     ]
    },
    {
     "name": "stderr",
     "output_type": "stream",
     "text": [
      "100%|██████████| 1/1 [00:00<00:00, 69.57it/s]\n"
     ]
    },
    {
     "name": "stdout",
     "output_type": "stream",
     "text": [
      "loading model: ('acids', 'bond', 'Sterimol_B5', 'max')\n",
      "    making predictions:\n"
     ]
    },
    {
     "name": "stderr",
     "output_type": "stream",
     "text": [
      "100%|██████████| 1/1 [00:00<00:00, 70.22it/s]\n"
     ]
    },
    {
     "name": "stdout",
     "output_type": "stream",
     "text": [
      "loading model: ('acids', 'bond', 'Sterimol_B5', 'min')\n",
      "    making predictions:\n"
     ]
    },
    {
     "name": "stderr",
     "output_type": "stream",
     "text": [
      "100%|██████████| 1/1 [00:00<00:00, 70.36it/s]\n"
     ]
    },
    {
     "name": "stdout",
     "output_type": "stream",
     "text": [
      "loading model: ('acids', 'bond', 'Sterimol_B5', 'min_E')\n",
      "    making predictions:\n"
     ]
    },
    {
     "name": "stderr",
     "output_type": "stream",
     "text": [
      "100%|██████████| 1/1 [00:00<00:00, 68.05it/s]\n"
     ]
    },
    {
     "name": "stdout",
     "output_type": "stream",
     "text": [
      "loading model: ('acids', 'bond', 'Sterimol_L', 'boltz')\n",
      "    making predictions:\n"
     ]
    },
    {
     "name": "stderr",
     "output_type": "stream",
     "text": [
      "100%|██████████| 1/1 [00:00<00:00, 70.72it/s]\n"
     ]
    },
    {
     "name": "stdout",
     "output_type": "stream",
     "text": [
      "loading model: ('acids', 'bond', 'Sterimol_L', 'max')\n",
      "    making predictions:\n"
     ]
    },
    {
     "name": "stderr",
     "output_type": "stream",
     "text": [
      "100%|██████████| 1/1 [00:00<00:00, 70.60it/s]\n"
     ]
    },
    {
     "name": "stdout",
     "output_type": "stream",
     "text": [
      "loading model: ('acids', 'bond', 'Sterimol_L', 'min')\n",
      "    making predictions:\n"
     ]
    },
    {
     "name": "stderr",
     "output_type": "stream",
     "text": [
      "100%|██████████| 1/1 [00:00<00:00, 69.36it/s]\n"
     ]
    },
    {
     "name": "stdout",
     "output_type": "stream",
     "text": [
      "loading model: ('acids', 'bond', 'Sterimol_L', 'min_E')\n",
      "    making predictions:\n"
     ]
    },
    {
     "name": "stderr",
     "output_type": "stream",
     "text": [
      "100%|██████████| 1/1 [00:00<00:00, 68.77it/s]\n"
     ]
    },
    {
     "name": "stdout",
     "output_type": "stream",
     "text": [
      "loading model: ('acids', 'mol', 'dipole', 'boltz')\n",
      "    making predictions:\n"
     ]
    },
    {
     "name": "stderr",
     "output_type": "stream",
     "text": [
      "100%|██████████| 1/1 [00:00<00:00, 72.05it/s]\n"
     ]
    },
    {
     "name": "stdout",
     "output_type": "stream",
     "text": [
      "loading model: ('acids', 'mol', 'dipole', 'max')\n",
      "    making predictions:\n"
     ]
    },
    {
     "name": "stderr",
     "output_type": "stream",
     "text": [
      "100%|██████████| 1/1 [00:00<00:00, 71.47it/s]\n"
     ]
    },
    {
     "name": "stdout",
     "output_type": "stream",
     "text": [
      "loading model: ('acids', 'mol', 'dipole', 'min')\n",
      "    making predictions:\n"
     ]
    },
    {
     "name": "stderr",
     "output_type": "stream",
     "text": [
      "100%|██████████| 1/1 [00:00<00:00, 72.17it/s]\n"
     ]
    },
    {
     "name": "stdout",
     "output_type": "stream",
     "text": [
      "loading model: ('acids', 'mol', 'dipole', 'min_E')\n",
      "    making predictions:\n"
     ]
    },
    {
     "name": "stderr",
     "output_type": "stream",
     "text": [
      "100%|██████████| 1/1 [00:00<00:00, 71.64it/s]\n"
     ]
    },
    {
     "name": "stdout",
     "output_type": "stream",
     "text": [
      "loading model: ('acids', 'mol', 'HOMO', 'boltz')\n",
      "    making predictions:\n"
     ]
    },
    {
     "name": "stderr",
     "output_type": "stream",
     "text": [
      "100%|██████████| 1/1 [00:00<00:00, 72.45it/s]\n"
     ]
    },
    {
     "name": "stdout",
     "output_type": "stream",
     "text": [
      "loading model: ('acids', 'mol', 'HOMO', 'max')\n",
      "    making predictions:\n"
     ]
    },
    {
     "name": "stderr",
     "output_type": "stream",
     "text": [
      "100%|██████████| 1/1 [00:00<00:00, 71.71it/s]\n"
     ]
    },
    {
     "name": "stdout",
     "output_type": "stream",
     "text": [
      "loading model: ('acids', 'mol', 'HOMO', 'min')\n",
      "    making predictions:\n"
     ]
    },
    {
     "name": "stderr",
     "output_type": "stream",
     "text": [
      "100%|██████████| 1/1 [00:00<00:00, 71.05it/s]\n"
     ]
    },
    {
     "name": "stdout",
     "output_type": "stream",
     "text": [
      "loading model: ('acids', 'mol', 'HOMO', 'min_E')\n",
      "    making predictions:\n"
     ]
    },
    {
     "name": "stderr",
     "output_type": "stream",
     "text": [
      "100%|██████████| 1/1 [00:00<00:00, 68.78it/s]\n"
     ]
    },
    {
     "name": "stdout",
     "output_type": "stream",
     "text": [
      "loading model: ('acids', 'mol', 'LUMO', 'boltz')\n",
      "    making predictions:\n"
     ]
    },
    {
     "name": "stderr",
     "output_type": "stream",
     "text": [
      "100%|██████████| 1/1 [00:00<00:00, 71.45it/s]\n"
     ]
    },
    {
     "name": "stdout",
     "output_type": "stream",
     "text": [
      "loading model: ('acids', 'mol', 'LUMO', 'max')\n",
      "    making predictions:\n"
     ]
    },
    {
     "name": "stderr",
     "output_type": "stream",
     "text": [
      "100%|██████████| 1/1 [00:00<00:00, 72.01it/s]\n"
     ]
    },
    {
     "name": "stdout",
     "output_type": "stream",
     "text": [
      "loading model: ('acids', 'mol', 'LUMO', 'min')\n",
      "    making predictions:\n"
     ]
    },
    {
     "name": "stderr",
     "output_type": "stream",
     "text": [
      "100%|██████████| 1/1 [00:00<00:00, 71.43it/s]\n"
     ]
    },
    {
     "name": "stdout",
     "output_type": "stream",
     "text": [
      "loading model: ('acids', 'mol', 'LUMO', 'min_E')\n",
      "    making predictions:\n"
     ]
    },
    {
     "name": "stderr",
     "output_type": "stream",
     "text": [
      "100%|██████████| 1/1 [00:00<00:00, 72.14it/s]\n"
     ]
    },
    {
     "name": "stdout",
     "output_type": "stream",
     "text": [
      "loading model: ('acids', 'mol', 'polar_aniso', 'boltz')\n",
      "    making predictions:\n"
     ]
    },
    {
     "name": "stderr",
     "output_type": "stream",
     "text": [
      "100%|██████████| 1/1 [00:00<00:00, 70.95it/s]\n"
     ]
    },
    {
     "name": "stdout",
     "output_type": "stream",
     "text": [
      "loading model: ('acids', 'mol', 'polar_aniso', 'max')\n",
      "    making predictions:\n"
     ]
    },
    {
     "name": "stderr",
     "output_type": "stream",
     "text": [
      "100%|██████████| 1/1 [00:00<00:00, 71.11it/s]\n"
     ]
    },
    {
     "name": "stdout",
     "output_type": "stream",
     "text": [
      "loading model: ('acids', 'mol', 'polar_aniso', 'min')\n",
      "    making predictions:\n"
     ]
    },
    {
     "name": "stderr",
     "output_type": "stream",
     "text": [
      "100%|██████████| 1/1 [00:00<00:00, 71.59it/s]\n"
     ]
    },
    {
     "name": "stdout",
     "output_type": "stream",
     "text": [
      "loading model: ('acids', 'mol', 'polar_aniso', 'min_E')\n",
      "    making predictions:\n"
     ]
    },
    {
     "name": "stderr",
     "output_type": "stream",
     "text": [
      "100%|██████████| 1/1 [00:00<00:00, 72.00it/s]\n"
     ]
    },
    {
     "name": "stdout",
     "output_type": "stream",
     "text": [
      "loading model: ('acids', 'mol', 'polar_iso', 'boltz')\n",
      "    making predictions:\n"
     ]
    },
    {
     "name": "stderr",
     "output_type": "stream",
     "text": [
      "100%|██████████| 1/1 [00:00<00:00, 72.06it/s]\n"
     ]
    },
    {
     "name": "stdout",
     "output_type": "stream",
     "text": [
      "loading model: ('acids', 'mol', 'polar_iso', 'max')\n",
      "    making predictions:\n"
     ]
    },
    {
     "name": "stderr",
     "output_type": "stream",
     "text": [
      "100%|██████████| 1/1 [00:00<00:00, 71.11it/s]\n"
     ]
    },
    {
     "name": "stdout",
     "output_type": "stream",
     "text": [
      "loading model: ('acids', 'mol', 'polar_iso', 'min')\n",
      "    making predictions:\n"
     ]
    },
    {
     "name": "stderr",
     "output_type": "stream",
     "text": [
      "100%|██████████| 1/1 [00:00<00:00, 69.97it/s]\n"
     ]
    },
    {
     "name": "stdout",
     "output_type": "stream",
     "text": [
      "loading model: ('acids', 'mol', 'polar_iso', 'min_E')\n",
      "    making predictions:\n"
     ]
    },
    {
     "name": "stderr",
     "output_type": "stream",
     "text": [
      "100%|██████████| 1/1 [00:00<00:00, 70.57it/s]\n"
     ]
    },
    {
     "name": "stdout",
     "output_type": "stream",
     "text": [
      "loading model: ('acids', 'mol', 'SASA_surface_area', 'boltz')\n",
      "    making predictions:\n"
     ]
    },
    {
     "name": "stderr",
     "output_type": "stream",
     "text": [
      "100%|██████████| 1/1 [00:00<00:00, 72.48it/s]\n"
     ]
    },
    {
     "name": "stdout",
     "output_type": "stream",
     "text": [
      "loading model: ('acids', 'mol', 'SASA_surface_area', 'max')\n",
      "    making predictions:\n"
     ]
    },
    {
     "name": "stderr",
     "output_type": "stream",
     "text": [
      "100%|██████████| 1/1 [00:00<00:00, 71.67it/s]\n"
     ]
    },
    {
     "name": "stdout",
     "output_type": "stream",
     "text": [
      "loading model: ('acids', 'mol', 'SASA_surface_area', 'min')\n",
      "    making predictions:\n"
     ]
    },
    {
     "name": "stderr",
     "output_type": "stream",
     "text": [
      "100%|██████████| 1/1 [00:00<00:00, 72.29it/s]\n"
     ]
    },
    {
     "name": "stdout",
     "output_type": "stream",
     "text": [
      "loading model: ('acids', 'mol', 'SASA_surface_area', 'min_E')\n",
      "    making predictions:\n"
     ]
    },
    {
     "name": "stderr",
     "output_type": "stream",
     "text": [
      "100%|██████████| 1/1 [00:00<00:00, 71.54it/s]\n"
     ]
    },
    {
     "name": "stdout",
     "output_type": "stream",
     "text": [
      "loading model: ('acids', 'mol', 'SASA_volume', 'boltz')\n",
      "    making predictions:\n"
     ]
    },
    {
     "name": "stderr",
     "output_type": "stream",
     "text": [
      "100%|██████████| 1/1 [00:00<00:00, 71.60it/s]\n"
     ]
    },
    {
     "name": "stdout",
     "output_type": "stream",
     "text": [
      "loading model: ('acids', 'mol', 'SASA_volume', 'max')\n",
      "    making predictions:\n"
     ]
    },
    {
     "name": "stderr",
     "output_type": "stream",
     "text": [
      "100%|██████████| 1/1 [00:00<00:00, 71.98it/s]\n"
     ]
    },
    {
     "name": "stdout",
     "output_type": "stream",
     "text": [
      "loading model: ('acids', 'mol', 'SASA_volume', 'min')\n",
      "    making predictions:\n"
     ]
    },
    {
     "name": "stderr",
     "output_type": "stream",
     "text": [
      "100%|██████████| 1/1 [00:00<00:00, 72.56it/s]\n"
     ]
    },
    {
     "name": "stdout",
     "output_type": "stream",
     "text": [
      "loading model: ('acids', 'mol', 'SASA_volume', 'min_E')\n",
      "    making predictions:\n"
     ]
    },
    {
     "name": "stderr",
     "output_type": "stream",
     "text": [
      "100%|██████████| 1/1 [00:00<00:00, 71.55it/s]\n"
     ]
    },
    {
     "name": "stdout",
     "output_type": "stream",
     "text": [
      "loading model: ('acids', 'atom', 'C1_NBO_charge', 'boltz')\n",
      "    making predictions:\n"
     ]
    },
    {
     "name": "stderr",
     "output_type": "stream",
     "text": [
      "100%|██████████| 1/1 [00:00<00:00, 71.38it/s]\n"
     ]
    },
    {
     "name": "stdout",
     "output_type": "stream",
     "text": [
      "loading model: ('acids', 'atom', 'C1_NBO_charge', 'max')\n",
      "    making predictions:\n"
     ]
    },
    {
     "name": "stderr",
     "output_type": "stream",
     "text": [
      "100%|██████████| 1/1 [00:00<00:00, 71.14it/s]\n"
     ]
    },
    {
     "name": "stdout",
     "output_type": "stream",
     "text": [
      "loading model: ('acids', 'atom', 'C1_NBO_charge', 'min')\n",
      "    making predictions:\n"
     ]
    },
    {
     "name": "stderr",
     "output_type": "stream",
     "text": [
      "100%|██████████| 1/1 [00:00<00:00, 71.35it/s]\n"
     ]
    },
    {
     "name": "stdout",
     "output_type": "stream",
     "text": [
      "loading model: ('acids', 'atom', 'C1_NBO_charge', 'min_E')\n",
      "    making predictions:\n"
     ]
    },
    {
     "name": "stderr",
     "output_type": "stream",
     "text": [
      "100%|██████████| 1/1 [00:00<00:00, 71.12it/s]\n"
     ]
    },
    {
     "name": "stdout",
     "output_type": "stream",
     "text": [
      "loading model: ('acids', 'atom', 'C1_NMR_shift', 'boltz')\n",
      "    making predictions:\n"
     ]
    },
    {
     "name": "stderr",
     "output_type": "stream",
     "text": [
      "100%|██████████| 1/1 [00:00<00:00, 71.19it/s]\n"
     ]
    },
    {
     "name": "stdout",
     "output_type": "stream",
     "text": [
      "loading model: ('acids', 'atom', 'C1_NMR_shift', 'max')\n",
      "    making predictions:\n"
     ]
    },
    {
     "name": "stderr",
     "output_type": "stream",
     "text": [
      "100%|██████████| 1/1 [00:00<00:00, 71.58it/s]\n"
     ]
    },
    {
     "name": "stdout",
     "output_type": "stream",
     "text": [
      "loading model: ('acids', 'atom', 'C1_NMR_shift', 'min')\n",
      "    making predictions:\n"
     ]
    },
    {
     "name": "stderr",
     "output_type": "stream",
     "text": [
      "100%|██████████| 1/1 [00:00<00:00, 70.25it/s]\n"
     ]
    },
    {
     "name": "stdout",
     "output_type": "stream",
     "text": [
      "loading model: ('acids', 'atom', 'C1_NMR_shift', 'min_E')\n",
      "    making predictions:\n"
     ]
    },
    {
     "name": "stderr",
     "output_type": "stream",
     "text": [
      "100%|██████████| 1/1 [00:00<00:00, 71.36it/s]\n"
     ]
    },
    {
     "name": "stdout",
     "output_type": "stream",
     "text": [
      "loading model: ('acids', 'atom', 'C1_V_bur', 'boltz')\n",
      "    making predictions:\n"
     ]
    },
    {
     "name": "stderr",
     "output_type": "stream",
     "text": [
      "100%|██████████| 1/1 [00:00<00:00, 70.61it/s]\n"
     ]
    },
    {
     "name": "stdout",
     "output_type": "stream",
     "text": [
      "loading model: ('acids', 'atom', 'C1_V_bur', 'max')\n",
      "    making predictions:\n"
     ]
    },
    {
     "name": "stderr",
     "output_type": "stream",
     "text": [
      "100%|██████████| 1/1 [00:00<00:00, 71.05it/s]\n"
     ]
    },
    {
     "name": "stdout",
     "output_type": "stream",
     "text": [
      "loading model: ('acids', 'atom', 'C1_V_bur', 'min')\n",
      "    making predictions:\n"
     ]
    },
    {
     "name": "stderr",
     "output_type": "stream",
     "text": [
      "100%|██████████| 1/1 [00:00<00:00, 69.97it/s]\n"
     ]
    },
    {
     "name": "stdout",
     "output_type": "stream",
     "text": [
      "loading model: ('acids', 'atom', 'C1_V_bur', 'min_E')\n",
      "    making predictions:\n"
     ]
    },
    {
     "name": "stderr",
     "output_type": "stream",
     "text": [
      "100%|██████████| 1/1 [00:00<00:00, 70.49it/s]\n"
     ]
    },
    {
     "name": "stdout",
     "output_type": "stream",
     "text": [
      "loading model: ('acids', 'atom', 'C4_NBO_charge', 'boltz')\n",
      "    making predictions:\n"
     ]
    },
    {
     "name": "stderr",
     "output_type": "stream",
     "text": [
      "100%|██████████| 1/1 [00:00<00:00, 71.97it/s]\n"
     ]
    },
    {
     "name": "stdout",
     "output_type": "stream",
     "text": [
      "loading model: ('acids', 'atom', 'C4_NBO_charge', 'max')\n",
      "    making predictions:\n"
     ]
    },
    {
     "name": "stderr",
     "output_type": "stream",
     "text": [
      "100%|██████████| 1/1 [00:00<00:00, 70.81it/s]\n"
     ]
    },
    {
     "name": "stdout",
     "output_type": "stream",
     "text": [
      "loading model: ('acids', 'atom', 'C4_NBO_charge', 'min')\n",
      "    making predictions:\n"
     ]
    },
    {
     "name": "stderr",
     "output_type": "stream",
     "text": [
      "100%|██████████| 1/1 [00:00<00:00, 70.97it/s]\n"
     ]
    },
    {
     "name": "stdout",
     "output_type": "stream",
     "text": [
      "loading model: ('acids', 'atom', 'C4_NBO_charge', 'min_E')\n",
      "    making predictions:\n"
     ]
    },
    {
     "name": "stderr",
     "output_type": "stream",
     "text": [
      "100%|██████████| 1/1 [00:00<00:00, 70.64it/s]\n"
     ]
    },
    {
     "name": "stdout",
     "output_type": "stream",
     "text": [
      "loading model: ('acids', 'atom', 'C4_NMR_shift', 'boltz')\n",
      "    making predictions:\n"
     ]
    },
    {
     "name": "stderr",
     "output_type": "stream",
     "text": [
      "100%|██████████| 1/1 [00:00<00:00, 71.73it/s]\n"
     ]
    },
    {
     "name": "stdout",
     "output_type": "stream",
     "text": [
      "loading model: ('acids', 'atom', 'C4_NMR_shift', 'max')\n",
      "    making predictions:\n"
     ]
    },
    {
     "name": "stderr",
     "output_type": "stream",
     "text": [
      "100%|██████████| 1/1 [00:00<00:00, 67.06it/s]\n"
     ]
    },
    {
     "name": "stdout",
     "output_type": "stream",
     "text": [
      "loading model: ('acids', 'atom', 'C4_NMR_shift', 'min')\n",
      "    making predictions:\n"
     ]
    },
    {
     "name": "stderr",
     "output_type": "stream",
     "text": [
      "100%|██████████| 1/1 [00:00<00:00, 70.19it/s]\n"
     ]
    },
    {
     "name": "stdout",
     "output_type": "stream",
     "text": [
      "loading model: ('acids', 'atom', 'C4_NMR_shift', 'min_E')\n",
      "    making predictions:\n"
     ]
    },
    {
     "name": "stderr",
     "output_type": "stream",
     "text": [
      "100%|██████████| 1/1 [00:00<00:00, 70.93it/s]\n"
     ]
    },
    {
     "name": "stdout",
     "output_type": "stream",
     "text": [
      "loading model: ('acids', 'atom', 'C4_V_bur', 'boltz')\n",
      "    making predictions:\n"
     ]
    },
    {
     "name": "stderr",
     "output_type": "stream",
     "text": [
      "100%|██████████| 1/1 [00:00<00:00, 70.91it/s]\n"
     ]
    },
    {
     "name": "stdout",
     "output_type": "stream",
     "text": [
      "loading model: ('acids', 'atom', 'C4_V_bur', 'max')\n",
      "    making predictions:\n"
     ]
    },
    {
     "name": "stderr",
     "output_type": "stream",
     "text": [
      "100%|██████████| 1/1 [00:00<00:00, 70.68it/s]\n"
     ]
    },
    {
     "name": "stdout",
     "output_type": "stream",
     "text": [
      "loading model: ('acids', 'atom', 'C4_V_bur', 'min')\n",
      "    making predictions:\n"
     ]
    },
    {
     "name": "stderr",
     "output_type": "stream",
     "text": [
      "100%|██████████| 1/1 [00:00<00:00, 66.08it/s]\n"
     ]
    },
    {
     "name": "stdout",
     "output_type": "stream",
     "text": [
      "loading model: ('acids', 'atom', 'C4_V_bur', 'min_E')\n",
      "    making predictions:\n"
     ]
    },
    {
     "name": "stderr",
     "output_type": "stream",
     "text": [
      "100%|██████████| 1/1 [00:00<00:00, 70.90it/s]\n"
     ]
    },
    {
     "name": "stdout",
     "output_type": "stream",
     "text": [
      "loading model: ('acids', 'atom', 'O2_NBO_charge', 'boltz')\n",
      "    making predictions:\n"
     ]
    },
    {
     "name": "stderr",
     "output_type": "stream",
     "text": [
      "100%|██████████| 1/1 [00:00<00:00, 69.54it/s]\n"
     ]
    },
    {
     "name": "stdout",
     "output_type": "stream",
     "text": [
      "loading model: ('acids', 'atom', 'O2_NBO_charge', 'max')\n",
      "    making predictions:\n"
     ]
    },
    {
     "name": "stderr",
     "output_type": "stream",
     "text": [
      "100%|██████████| 1/1 [00:00<00:00, 70.92it/s]\n"
     ]
    },
    {
     "name": "stdout",
     "output_type": "stream",
     "text": [
      "loading model: ('acids', 'atom', 'O2_NBO_charge', 'min')\n",
      "    making predictions:\n"
     ]
    },
    {
     "name": "stderr",
     "output_type": "stream",
     "text": [
      "100%|██████████| 1/1 [00:00<00:00, 70.21it/s]\n"
     ]
    },
    {
     "name": "stdout",
     "output_type": "stream",
     "text": [
      "loading model: ('acids', 'atom', 'O2_NBO_charge', 'min_E')\n",
      "    making predictions:\n"
     ]
    },
    {
     "name": "stderr",
     "output_type": "stream",
     "text": [
      "100%|██████████| 1/1 [00:00<00:00, 71.33it/s]\n"
     ]
    },
    {
     "name": "stdout",
     "output_type": "stream",
     "text": [
      "loading model: ('acids', 'atom', 'O3_NBO_charge', 'boltz')\n",
      "    making predictions:\n"
     ]
    },
    {
     "name": "stderr",
     "output_type": "stream",
     "text": [
      "100%|██████████| 1/1 [00:00<00:00, 68.44it/s]\n"
     ]
    },
    {
     "name": "stdout",
     "output_type": "stream",
     "text": [
      "loading model: ('acids', 'atom', 'O3_NBO_charge', 'max')\n",
      "    making predictions:\n"
     ]
    },
    {
     "name": "stderr",
     "output_type": "stream",
     "text": [
      "100%|██████████| 1/1 [00:00<00:00, 69.97it/s]\n"
     ]
    },
    {
     "name": "stdout",
     "output_type": "stream",
     "text": [
      "loading model: ('acids', 'atom', 'O3_NBO_charge', 'min')\n",
      "    making predictions:\n"
     ]
    },
    {
     "name": "stderr",
     "output_type": "stream",
     "text": [
      "100%|██████████| 1/1 [00:00<00:00, 70.13it/s]\n"
     ]
    },
    {
     "name": "stdout",
     "output_type": "stream",
     "text": [
      "loading model: ('acids', 'atom', 'O3_NBO_charge', 'min_E')\n",
      "    making predictions:\n"
     ]
    },
    {
     "name": "stderr",
     "output_type": "stream",
     "text": [
      "100%|██████████| 1/1 [00:00<00:00, 70.53it/s]\n"
     ]
    },
    {
     "name": "stdout",
     "output_type": "stream",
     "text": [
      "loading model: ('acids', 'atom', 'H5_NBO_charge', 'boltz')\n",
      "    making predictions:\n"
     ]
    },
    {
     "name": "stderr",
     "output_type": "stream",
     "text": [
      "100%|██████████| 1/1 [00:00<00:00, 70.96it/s]\n"
     ]
    },
    {
     "name": "stdout",
     "output_type": "stream",
     "text": [
      "loading model: ('acids', 'atom', 'H5_NBO_charge', 'max')\n",
      "    making predictions:\n"
     ]
    },
    {
     "name": "stderr",
     "output_type": "stream",
     "text": [
      "100%|██████████| 1/1 [00:00<00:00, 70.82it/s]\n"
     ]
    },
    {
     "name": "stdout",
     "output_type": "stream",
     "text": [
      "loading model: ('acids', 'atom', 'H5_NBO_charge', 'min')\n",
      "    making predictions:\n"
     ]
    },
    {
     "name": "stderr",
     "output_type": "stream",
     "text": [
      "100%|██████████| 1/1 [00:00<00:00, 69.81it/s]\n"
     ]
    },
    {
     "name": "stdout",
     "output_type": "stream",
     "text": [
      "loading model: ('acids', 'atom', 'H5_NBO_charge', 'min_E')\n",
      "    making predictions:\n"
     ]
    },
    {
     "name": "stderr",
     "output_type": "stream",
     "text": [
      "100%|██████████| 1/1 [00:00<00:00, 69.34it/s]\n"
     ]
    },
    {
     "name": "stdout",
     "output_type": "stream",
     "text": [
      "loading model: ('acids', 'atom', 'H5_NMR_shift', 'boltz')\n",
      "    making predictions:\n"
     ]
    },
    {
     "name": "stderr",
     "output_type": "stream",
     "text": [
      "100%|██████████| 1/1 [00:00<00:00, 70.98it/s]\n"
     ]
    },
    {
     "name": "stdout",
     "output_type": "stream",
     "text": [
      "loading model: ('acids', 'atom', 'H5_NMR_shift', 'max')\n",
      "    making predictions:\n"
     ]
    },
    {
     "name": "stderr",
     "output_type": "stream",
     "text": [
      "100%|██████████| 1/1 [00:00<00:00, 70.38it/s]\n"
     ]
    },
    {
     "name": "stdout",
     "output_type": "stream",
     "text": [
      "loading model: ('acids', 'atom', 'H5_NMR_shift', 'min')\n",
      "    making predictions:\n"
     ]
    },
    {
     "name": "stderr",
     "output_type": "stream",
     "text": [
      "100%|██████████| 1/1 [00:00<00:00, 71.21it/s]\n"
     ]
    },
    {
     "name": "stdout",
     "output_type": "stream",
     "text": [
      "loading model: ('acids', 'atom', 'H5_NMR_shift', 'min_E')\n",
      "    making predictions:\n"
     ]
    },
    {
     "name": "stderr",
     "output_type": "stream",
     "text": [
      "100%|██████████| 1/1 [00:00<00:00, 71.26it/s]\n"
     ]
    },
    {
     "data": {
      "text/html": [
       "<div>\n",
       "<style scoped>\n",
       "    .dataframe tbody tr th:only-of-type {\n",
       "        vertical-align: middle;\n",
       "    }\n",
       "\n",
       "    .dataframe tbody tr th {\n",
       "        vertical-align: top;\n",
       "    }\n",
       "\n",
       "    .dataframe thead tr th {\n",
       "        text-align: left;\n",
       "    }\n",
       "</style>\n",
       "<table border=\"1\" class=\"dataframe\">\n",
       "  <thead>\n",
       "    <tr>\n",
       "      <th></th>\n",
       "      <th colspan=\"21\" halign=\"left\">acids</th>\n",
       "    </tr>\n",
       "    <tr>\n",
       "      <th></th>\n",
       "      <th colspan=\"10\" halign=\"left\">bond</th>\n",
       "      <th>...</th>\n",
       "      <th colspan=\"10\" halign=\"left\">atom</th>\n",
       "    </tr>\n",
       "    <tr>\n",
       "      <th></th>\n",
       "      <th colspan=\"4\" halign=\"left\">IR_freq</th>\n",
       "      <th colspan=\"4\" halign=\"left\">Sterimol_B1</th>\n",
       "      <th colspan=\"2\" halign=\"left\">Sterimol_B5</th>\n",
       "      <th>...</th>\n",
       "      <th colspan=\"2\" halign=\"left\">O3_NBO_charge</th>\n",
       "      <th colspan=\"4\" halign=\"left\">H5_NBO_charge</th>\n",
       "      <th colspan=\"4\" halign=\"left\">H5_NMR_shift</th>\n",
       "    </tr>\n",
       "    <tr>\n",
       "      <th></th>\n",
       "      <th>boltz</th>\n",
       "      <th>max</th>\n",
       "      <th>min</th>\n",
       "      <th>min_E</th>\n",
       "      <th>boltz</th>\n",
       "      <th>max</th>\n",
       "      <th>min</th>\n",
       "      <th>min_E</th>\n",
       "      <th>boltz</th>\n",
       "      <th>max</th>\n",
       "      <th>...</th>\n",
       "      <th>min</th>\n",
       "      <th>min_E</th>\n",
       "      <th>boltz</th>\n",
       "      <th>max</th>\n",
       "      <th>min</th>\n",
       "      <th>min_E</th>\n",
       "      <th>boltz</th>\n",
       "      <th>max</th>\n",
       "      <th>min</th>\n",
       "      <th>min_E</th>\n",
       "    </tr>\n",
       "  </thead>\n",
       "  <tbody>\n",
       "    <tr>\n",
       "      <th>0</th>\n",
       "      <td>1848.094849</td>\n",
       "      <td>1882.181519</td>\n",
       "      <td>1839.129028</td>\n",
       "      <td>1851.907593</td>\n",
       "      <td>2.246075</td>\n",
       "      <td>2.513149</td>\n",
       "      <td>1.970513</td>\n",
       "      <td>2.422750</td>\n",
       "      <td>3.926180</td>\n",
       "      <td>4.579840</td>\n",
       "      <td>...</td>\n",
       "      <td>-0.691587</td>\n",
       "      <td>-0.671679</td>\n",
       "      <td>0.502610</td>\n",
       "      <td>0.505360</td>\n",
       "      <td>0.501675</td>\n",
       "      <td>0.502349</td>\n",
       "      <td>25.416916</td>\n",
       "      <td>25.558514</td>\n",
       "      <td>25.275196</td>\n",
       "      <td>25.449743</td>\n",
       "    </tr>\n",
       "    <tr>\n",
       "      <th>1</th>\n",
       "      <td>1835.389893</td>\n",
       "      <td>1845.921265</td>\n",
       "      <td>1815.270264</td>\n",
       "      <td>1838.789551</td>\n",
       "      <td>1.986166</td>\n",
       "      <td>3.310197</td>\n",
       "      <td>1.791027</td>\n",
       "      <td>2.037996</td>\n",
       "      <td>15.811618</td>\n",
       "      <td>21.409170</td>\n",
       "      <td>...</td>\n",
       "      <td>-0.704256</td>\n",
       "      <td>-0.687430</td>\n",
       "      <td>0.491969</td>\n",
       "      <td>0.501301</td>\n",
       "      <td>0.491283</td>\n",
       "      <td>0.492666</td>\n",
       "      <td>25.721203</td>\n",
       "      <td>25.740025</td>\n",
       "      <td>24.982731</td>\n",
       "      <td>25.860966</td>\n",
       "    </tr>\n",
       "    <tr>\n",
       "      <th>2</th>\n",
       "      <td>1869.242920</td>\n",
       "      <td>1887.110962</td>\n",
       "      <td>1849.342773</td>\n",
       "      <td>1876.880371</td>\n",
       "      <td>1.984187</td>\n",
       "      <td>2.034909</td>\n",
       "      <td>1.863132</td>\n",
       "      <td>2.018414</td>\n",
       "      <td>9.834859</td>\n",
       "      <td>11.564659</td>\n",
       "      <td>...</td>\n",
       "      <td>-0.685773</td>\n",
       "      <td>-0.685293</td>\n",
       "      <td>0.500887</td>\n",
       "      <td>0.502955</td>\n",
       "      <td>0.492845</td>\n",
       "      <td>0.497004</td>\n",
       "      <td>25.144413</td>\n",
       "      <td>25.834415</td>\n",
       "      <td>23.551687</td>\n",
       "      <td>25.108082</td>\n",
       "    </tr>\n",
       "  </tbody>\n",
       "</table>\n",
       "<p>3 rows × 84 columns</p>\n",
       "</div>"
      ],
      "text/plain": [
       "         acids                                                               \\\n",
       "          bond                                                                \n",
       "       IR_freq                                        Sterimol_B1             \n",
       "         boltz          max          min        min_E       boltz       max   \n",
       "0  1848.094849  1882.181519  1839.129028  1851.907593    2.246075  2.513149   \n",
       "1  1835.389893  1845.921265  1815.270264  1838.789551    1.986166  3.310197   \n",
       "2  1869.242920  1887.110962  1849.342773  1876.880371    1.984187  2.034909   \n",
       "\n",
       "                                              ...                          \\\n",
       "                                              ...          atom             \n",
       "                      Sterimol_B5             ... O3_NBO_charge             \n",
       "        min     min_E       boltz        max  ...           min     min_E   \n",
       "0  1.970513  2.422750    3.926180   4.579840  ...     -0.691587 -0.671679   \n",
       "1  1.791027  2.037996   15.811618  21.409170  ...     -0.704256 -0.687430   \n",
       "2  1.863132  2.018414    9.834859  11.564659  ...     -0.685773 -0.685293   \n",
       "\n",
       "                                                                       \\\n",
       "                                                                        \n",
       "  H5_NBO_charge                               H5_NMR_shift              \n",
       "          boltz       max       min     min_E        boltz        max   \n",
       "0      0.502610  0.505360  0.501675  0.502349    25.416916  25.558514   \n",
       "1      0.491969  0.501301  0.491283  0.492666    25.721203  25.740025   \n",
       "2      0.500887  0.502955  0.492845  0.497004    25.144413  25.834415   \n",
       "\n",
       "                         \n",
       "                         \n",
       "                         \n",
       "         min      min_E  \n",
       "0  25.275196  25.449743  \n",
       "1  24.982731  25.860966  \n",
       "2  23.551687  25.108082  \n",
       "\n",
       "[3 rows x 84 columns]"
      ]
     },
     "execution_count": 28,
     "metadata": {},
     "output_type": "execute_result"
    }
   ],
   "source": [
    "# ACIDS\n",
    "\n",
    "# loading models and making predictions for each descriptor in model_selections\n",
    "\n",
    "acid_results_dict = {}\n",
    "model_selections = acid_model_selections\n",
    "test_dataframe = acid_dataframe\n",
    "\n",
    "for model_selection in model_selections:\n",
    "    \n",
    "    print(f'loading model: {model_selection}') # this can take a few seconds\n",
    "    model = load_model(*model_selection, model_dictionary)\n",
    "    \n",
    "    keep_explicit_hydrogens = True\n",
    "    remove_Hs_except_functional = True\n",
    "    \n",
    "    print('    making predictions:')\n",
    "    predictions = make_predictions(\n",
    "        test_dataframe, \n",
    "        model, \n",
    "        model_selection, \n",
    "        atom_selection_dictionary, \n",
    "        keep_explicit_hydrogens = keep_explicit_hydrogens,\n",
    "        remove_Hs_except_functional = remove_Hs_except_functional,\n",
    "        device = torch.device(\"cpu\"),\n",
    "        \n",
    "    )\n",
    "    # saving results\n",
    "    acid_results_dict[tuple(model_selection)] = predictions\n",
    "\n",
    "acid_results_df = pd.DataFrame(acid_results_dict)\n",
    "acid_results_df"
   ]
  },
  {
   "cell_type": "code",
   "execution_count": 10,
   "id": "0831b655-59cf-46f9-a840-82af22772d32",
   "metadata": {
    "tags": []
   },
   "outputs": [
    {
     "name": "stdout",
     "output_type": "stream",
     "text": [
      "loading model: ('pamine', 'bond', 'Sterimol_B1', 'boltz')\n",
      "    making predictions:\n"
     ]
    },
    {
     "name": "stderr",
     "output_type": "stream",
     "text": [
      "100%|██████████| 1/1 [00:00<00:00, 56.71it/s]\n"
     ]
    },
    {
     "name": "stdout",
     "output_type": "stream",
     "text": [
      "loading model: ('pamine', 'atom', 'N1_NBO_LP_energy', 'max')\n",
      "    making predictions:\n"
     ]
    },
    {
     "name": "stderr",
     "output_type": "stream",
     "text": [
      "100%|██████████| 1/1 [00:00<00:00, 59.32it/s]\n"
     ]
    },
    {
     "name": "stdout",
     "output_type": "stream",
     "text": [
      "loading model: ('pamine', 'atom', 'N1_pyrd_Ar', 'boltz')\n",
      "    making predictions:\n"
     ]
    },
    {
     "name": "stderr",
     "output_type": "stream",
     "text": [
      "100%|██████████| 1/1 [00:00<00:00, 59.92it/s]\n"
     ]
    },
    {
     "name": "stdout",
     "output_type": "stream",
     "text": [
      "loading model: ('pamine', 'mol', 'HOMO', 'boltz')\n",
      "    making predictions:\n"
     ]
    },
    {
     "name": "stderr",
     "output_type": "stream",
     "text": [
      "100%|██████████| 1/1 [00:00<00:00, 62.95it/s]\n"
     ]
    },
    {
     "data": {
      "text/html": [
       "<div>\n",
       "<style scoped>\n",
       "    .dataframe tbody tr th:only-of-type {\n",
       "        vertical-align: middle;\n",
       "    }\n",
       "\n",
       "    .dataframe tbody tr th {\n",
       "        vertical-align: top;\n",
       "    }\n",
       "\n",
       "    .dataframe thead tr th {\n",
       "        text-align: left;\n",
       "    }\n",
       "</style>\n",
       "<table border=\"1\" class=\"dataframe\">\n",
       "  <thead>\n",
       "    <tr>\n",
       "      <th></th>\n",
       "      <th colspan=\"4\" halign=\"left\">pamine</th>\n",
       "    </tr>\n",
       "    <tr>\n",
       "      <th></th>\n",
       "      <th>bond</th>\n",
       "      <th colspan=\"2\" halign=\"left\">atom</th>\n",
       "      <th>mol</th>\n",
       "    </tr>\n",
       "    <tr>\n",
       "      <th></th>\n",
       "      <th>Sterimol_B1</th>\n",
       "      <th>N1_NBO_LP_energy</th>\n",
       "      <th>N1_pyrd_Ar</th>\n",
       "      <th>HOMO</th>\n",
       "    </tr>\n",
       "    <tr>\n",
       "      <th></th>\n",
       "      <th>boltz</th>\n",
       "      <th>max</th>\n",
       "      <th>boltz</th>\n",
       "      <th>boltz</th>\n",
       "    </tr>\n",
       "  </thead>\n",
       "  <tbody>\n",
       "    <tr>\n",
       "      <th>0</th>\n",
       "      <td>1.786983</td>\n",
       "      <td>-0.348685</td>\n",
       "      <td>0.791019</td>\n",
       "      <td>-0.303770</td>\n",
       "    </tr>\n",
       "    <tr>\n",
       "      <th>1</th>\n",
       "      <td>2.462303</td>\n",
       "      <td>-0.351953</td>\n",
       "      <td>0.784781</td>\n",
       "      <td>-0.301559</td>\n",
       "    </tr>\n",
       "  </tbody>\n",
       "</table>\n",
       "</div>"
      ],
      "text/plain": [
       "       pamine                                      \n",
       "         bond             atom                  mol\n",
       "  Sterimol_B1 N1_NBO_LP_energy N1_pyrd_Ar      HOMO\n",
       "        boltz              max      boltz     boltz\n",
       "0    1.786983        -0.348685   0.791019 -0.303770\n",
       "1    2.462303        -0.351953   0.784781 -0.301559"
      ]
     },
     "execution_count": 10,
     "metadata": {},
     "output_type": "execute_result"
    }
   ],
   "source": [
    "# AMINES\n",
    "\n",
    "# loading models and making predictions for each descriptor in model_selections\n",
    "\n",
    "pamine_results_dict = {}\n",
    "model_selections = amine_model_selections\n",
    "test_dataframe = amine_dataframe\n",
    "\n",
    "for model_selection in model_selections:\n",
    "    \n",
    "    print(f'loading model: {model_selection}') # this can take a few seconds\n",
    "    model = load_model(*model_selection, model_dictionary)\n",
    "    \n",
    "    keep_explicit_hydrogens = True\n",
    "    remove_Hs_except_functional = True\n",
    "    \n",
    "    print('    making predictions:')\n",
    "    predictions = make_predictions(\n",
    "        test_dataframe, \n",
    "        model, \n",
    "        model_selection, \n",
    "        atom_selection_dictionary, \n",
    "        keep_explicit_hydrogens = keep_explicit_hydrogens,\n",
    "        remove_Hs_except_functional = remove_Hs_except_functional,\n",
    "        device = torch.device(\"cpu\"),\n",
    "        \n",
    "    )\n",
    "    \n",
    "    # saving results\n",
    "    pamine_results_dict[tuple(model_selection)] = predictions\n",
    "\n",
    "\n",
    "## results\n",
    "pamine_results_df = pd.DataFrame(pamine_results_dict)\n",
    "pamine_results_df"
   ]
  },
  {
   "cell_type": "code",
   "execution_count": 11,
   "id": "f5e6cee6-b1e9-499c-b3bc-ee57c721a4c8",
   "metadata": {
    "tags": []
   },
   "outputs": [
    {
     "name": "stdout",
     "output_type": "stream",
     "text": [
      "loading model: ('samine', 'atom', 'N1_pyrd_Ar', 'boltz')\n",
      "    making predictions:\n"
     ]
    },
    {
     "name": "stderr",
     "output_type": "stream",
     "text": [
      "100%|██████████| 1/1 [00:00<00:00, 26.81it/s]\n"
     ]
    },
    {
     "name": "stdout",
     "output_type": "stream",
     "text": [
      "loading model: ('samine', 'atom', 'H4_NBO_charge', 'boltz')\n",
      "    making predictions:\n"
     ]
    },
    {
     "name": "stderr",
     "output_type": "stream",
     "text": [
      "100%|██████████| 1/1 [00:00<00:00, 27.53it/s]\n"
     ]
    },
    {
     "name": "stdout",
     "output_type": "stream",
     "text": [
      "loading model: ('samine', 'atom', 'N1_V_bur', 'min_E')\n",
      "    making predictions:\n"
     ]
    },
    {
     "name": "stderr",
     "output_type": "stream",
     "text": [
      "100%|██████████| 1/1 [00:00<00:00, 28.13it/s]\n"
     ]
    },
    {
     "name": "stdout",
     "output_type": "stream",
     "text": [
      "loading model: ('samine', 'mol', 'HOMO', 'boltz')\n",
      "    making predictions:\n"
     ]
    },
    {
     "name": "stderr",
     "output_type": "stream",
     "text": [
      "100%|██████████| 1/1 [00:00<00:00, 28.01it/s]\n"
     ]
    },
    {
     "data": {
      "text/html": [
       "<div>\n",
       "<style scoped>\n",
       "    .dataframe tbody tr th:only-of-type {\n",
       "        vertical-align: middle;\n",
       "    }\n",
       "\n",
       "    .dataframe tbody tr th {\n",
       "        vertical-align: top;\n",
       "    }\n",
       "\n",
       "    .dataframe thead tr th {\n",
       "        text-align: left;\n",
       "    }\n",
       "</style>\n",
       "<table border=\"1\" class=\"dataframe\">\n",
       "  <thead>\n",
       "    <tr>\n",
       "      <th></th>\n",
       "      <th colspan=\"4\" halign=\"left\">samine</th>\n",
       "    </tr>\n",
       "    <tr>\n",
       "      <th></th>\n",
       "      <th colspan=\"3\" halign=\"left\">atom</th>\n",
       "      <th>mol</th>\n",
       "    </tr>\n",
       "    <tr>\n",
       "      <th></th>\n",
       "      <th>N1_pyrd_Ar</th>\n",
       "      <th>H4_NBO_charge</th>\n",
       "      <th>N1_V_bur</th>\n",
       "      <th>HOMO</th>\n",
       "    </tr>\n",
       "    <tr>\n",
       "      <th></th>\n",
       "      <th>boltz</th>\n",
       "      <th>boltz</th>\n",
       "      <th>min_E</th>\n",
       "      <th>boltz</th>\n",
       "    </tr>\n",
       "  </thead>\n",
       "  <tbody>\n",
       "    <tr>\n",
       "      <th>0</th>\n",
       "      <td>0.761948</td>\n",
       "      <td>0.349818</td>\n",
       "      <td>74.593941</td>\n",
       "      <td>-0.285781</td>\n",
       "    </tr>\n",
       "    <tr>\n",
       "      <th>1</th>\n",
       "      <td>0.743239</td>\n",
       "      <td>0.362009</td>\n",
       "      <td>74.851257</td>\n",
       "      <td>-0.264213</td>\n",
       "    </tr>\n",
       "    <tr>\n",
       "      <th>2</th>\n",
       "      <td>0.747913</td>\n",
       "      <td>0.362912</td>\n",
       "      <td>77.721451</td>\n",
       "      <td>-0.289367</td>\n",
       "    </tr>\n",
       "  </tbody>\n",
       "</table>\n",
       "</div>"
      ],
      "text/plain": [
       "      samine                                   \n",
       "        atom                                mol\n",
       "  N1_pyrd_Ar H4_NBO_charge   N1_V_bur      HOMO\n",
       "       boltz         boltz      min_E     boltz\n",
       "0   0.761948      0.349818  74.593941 -0.285781\n",
       "1   0.743239      0.362009  74.851257 -0.264213\n",
       "2   0.747913      0.362912  77.721451 -0.289367"
      ]
     },
     "execution_count": 11,
     "metadata": {},
     "output_type": "execute_result"
    }
   ],
   "source": [
    "# SECONDARY AMINES\n",
    "\n",
    "# loading models and making predictions for each descriptor in model_selections\n",
    "\n",
    "samine_results_dict = {}\n",
    "model_selections = sec_amine_model_selections\n",
    "test_dataframe = sec_amine_dataframe\n",
    "\n",
    "for model_selection in model_selections:\n",
    "    \n",
    "    print(f'loading model: {model_selection}') # this can take a few seconds\n",
    "    model = load_model(*model_selection, model_dictionary)\n",
    "    \n",
    "    keep_explicit_hydrogens = True\n",
    "    remove_Hs_except_functional = True\n",
    "    \n",
    "    print('    making predictions:')\n",
    "    predictions = make_predictions(\n",
    "        test_dataframe, \n",
    "        model, \n",
    "        model_selection, \n",
    "        atom_selection_dictionary, \n",
    "        keep_explicit_hydrogens = keep_explicit_hydrogens,\n",
    "        remove_Hs_except_functional = remove_Hs_except_functional,\n",
    "        device = torch.device(\"cpu\"),\n",
    "        \n",
    "    )\n",
    "    \n",
    "    # saving results\n",
    "    samine_results_dict[tuple(model_selection)] = predictions\n",
    "\n",
    "\n",
    "# results\n",
    "samine_results_df = pd.DataFrame(samine_results_dict)\n",
    "samine_results_df"
   ]
  },
  {
   "cell_type": "code",
   "execution_count": null,
   "id": "63598e62-1643-46d7-804e-811573c955db",
   "metadata": {},
   "outputs": [],
   "source": []
  },
  {
   "cell_type": "code",
   "execution_count": 12,
   "id": "aea52e52-619f-4d6d-8d50-224309a7c8da",
   "metadata": {
    "tags": []
   },
   "outputs": [
    {
     "data": {
      "text/html": [
       "<div>\n",
       "<style scoped>\n",
       "    .dataframe tbody tr th:only-of-type {\n",
       "        vertical-align: middle;\n",
       "    }\n",
       "\n",
       "    .dataframe tbody tr th {\n",
       "        vertical-align: top;\n",
       "    }\n",
       "\n",
       "    .dataframe thead tr th {\n",
       "        text-align: left;\n",
       "    }\n",
       "</style>\n",
       "<table border=\"1\" class=\"dataframe\">\n",
       "  <thead>\n",
       "    <tr>\n",
       "      <th></th>\n",
       "      <th colspan=\"3\" halign=\"left\">acids</th>\n",
       "    </tr>\n",
       "    <tr>\n",
       "      <th></th>\n",
       "      <th colspan=\"2\" halign=\"left\">atom</th>\n",
       "      <th>bond</th>\n",
       "    </tr>\n",
       "    <tr>\n",
       "      <th></th>\n",
       "      <th>C1_V_bur</th>\n",
       "      <th>C1_NBO_charge</th>\n",
       "      <th>IR_freq</th>\n",
       "    </tr>\n",
       "    <tr>\n",
       "      <th></th>\n",
       "      <th>boltz</th>\n",
       "      <th>boltz</th>\n",
       "      <th>boltz</th>\n",
       "    </tr>\n",
       "  </thead>\n",
       "  <tbody>\n",
       "    <tr>\n",
       "      <th>0</th>\n",
       "      <td>71.103767</td>\n",
       "      <td>0.761706</td>\n",
       "      <td>1848.094849</td>\n",
       "    </tr>\n",
       "    <tr>\n",
       "      <th>1</th>\n",
       "      <td>68.913986</td>\n",
       "      <td>0.798441</td>\n",
       "      <td>1835.389893</td>\n",
       "    </tr>\n",
       "    <tr>\n",
       "      <th>2</th>\n",
       "      <td>66.887764</td>\n",
       "      <td>0.753666</td>\n",
       "      <td>1869.242920</td>\n",
       "    </tr>\n",
       "  </tbody>\n",
       "</table>\n",
       "</div>"
      ],
      "text/plain": [
       "       acids                           \n",
       "        atom                       bond\n",
       "    C1_V_bur C1_NBO_charge      IR_freq\n",
       "       boltz         boltz        boltz\n",
       "0  71.103767      0.761706  1848.094849\n",
       "1  68.913986      0.798441  1835.389893\n",
       "2  66.887764      0.753666  1869.242920"
      ]
     },
     "execution_count": 12,
     "metadata": {},
     "output_type": "execute_result"
    }
   ],
   "source": [
    "# view all predictions\n",
    "acid_results_df.head()"
   ]
  },
  {
   "cell_type": "code",
   "execution_count": 13,
   "id": "db96853d-4066-44ba-aa6a-a6228486dcbc",
   "metadata": {
    "tags": []
   },
   "outputs": [
    {
     "data": {
      "text/html": [
       "<div>\n",
       "<style scoped>\n",
       "    .dataframe tbody tr th:only-of-type {\n",
       "        vertical-align: middle;\n",
       "    }\n",
       "\n",
       "    .dataframe tbody tr th {\n",
       "        vertical-align: top;\n",
       "    }\n",
       "\n",
       "    .dataframe thead tr th {\n",
       "        text-align: left;\n",
       "    }\n",
       "</style>\n",
       "<table border=\"1\" class=\"dataframe\">\n",
       "  <thead>\n",
       "    <tr>\n",
       "      <th></th>\n",
       "      <th colspan=\"4\" halign=\"left\">pamine</th>\n",
       "    </tr>\n",
       "    <tr>\n",
       "      <th></th>\n",
       "      <th>bond</th>\n",
       "      <th colspan=\"2\" halign=\"left\">atom</th>\n",
       "      <th>mol</th>\n",
       "    </tr>\n",
       "    <tr>\n",
       "      <th></th>\n",
       "      <th>Sterimol_B1</th>\n",
       "      <th>N1_NBO_LP_energy</th>\n",
       "      <th>N1_pyrd_Ar</th>\n",
       "      <th>HOMO</th>\n",
       "    </tr>\n",
       "    <tr>\n",
       "      <th></th>\n",
       "      <th>boltz</th>\n",
       "      <th>max</th>\n",
       "      <th>boltz</th>\n",
       "      <th>boltz</th>\n",
       "    </tr>\n",
       "  </thead>\n",
       "  <tbody>\n",
       "    <tr>\n",
       "      <th>0</th>\n",
       "      <td>1.786983</td>\n",
       "      <td>-0.348685</td>\n",
       "      <td>0.791019</td>\n",
       "      <td>-0.303770</td>\n",
       "    </tr>\n",
       "    <tr>\n",
       "      <th>1</th>\n",
       "      <td>2.462303</td>\n",
       "      <td>-0.351953</td>\n",
       "      <td>0.784781</td>\n",
       "      <td>-0.301559</td>\n",
       "    </tr>\n",
       "  </tbody>\n",
       "</table>\n",
       "</div>"
      ],
      "text/plain": [
       "       pamine                                      \n",
       "         bond             atom                  mol\n",
       "  Sterimol_B1 N1_NBO_LP_energy N1_pyrd_Ar      HOMO\n",
       "        boltz              max      boltz     boltz\n",
       "0    1.786983        -0.348685   0.791019 -0.303770\n",
       "1    2.462303        -0.351953   0.784781 -0.301559"
      ]
     },
     "execution_count": 13,
     "metadata": {},
     "output_type": "execute_result"
    }
   ],
   "source": [
    "# view all predictions\n",
    "pamine_results_df.head()"
   ]
  },
  {
   "cell_type": "code",
   "execution_count": 14,
   "id": "d0ff81e4-9991-4fcb-b7e5-c50bb7f5ea5d",
   "metadata": {
    "tags": []
   },
   "outputs": [
    {
     "data": {
      "text/html": [
       "<div>\n",
       "<style scoped>\n",
       "    .dataframe tbody tr th:only-of-type {\n",
       "        vertical-align: middle;\n",
       "    }\n",
       "\n",
       "    .dataframe tbody tr th {\n",
       "        vertical-align: top;\n",
       "    }\n",
       "\n",
       "    .dataframe thead tr th {\n",
       "        text-align: left;\n",
       "    }\n",
       "</style>\n",
       "<table border=\"1\" class=\"dataframe\">\n",
       "  <thead>\n",
       "    <tr>\n",
       "      <th></th>\n",
       "      <th colspan=\"4\" halign=\"left\">samine</th>\n",
       "    </tr>\n",
       "    <tr>\n",
       "      <th></th>\n",
       "      <th colspan=\"3\" halign=\"left\">atom</th>\n",
       "      <th>mol</th>\n",
       "    </tr>\n",
       "    <tr>\n",
       "      <th></th>\n",
       "      <th>N1_pyrd_Ar</th>\n",
       "      <th>H4_NBO_charge</th>\n",
       "      <th>N1_V_bur</th>\n",
       "      <th>HOMO</th>\n",
       "    </tr>\n",
       "    <tr>\n",
       "      <th></th>\n",
       "      <th>boltz</th>\n",
       "      <th>boltz</th>\n",
       "      <th>min_E</th>\n",
       "      <th>boltz</th>\n",
       "    </tr>\n",
       "  </thead>\n",
       "  <tbody>\n",
       "    <tr>\n",
       "      <th>0</th>\n",
       "      <td>0.761948</td>\n",
       "      <td>0.349818</td>\n",
       "      <td>74.593941</td>\n",
       "      <td>-0.285781</td>\n",
       "    </tr>\n",
       "    <tr>\n",
       "      <th>1</th>\n",
       "      <td>0.743239</td>\n",
       "      <td>0.362009</td>\n",
       "      <td>74.851257</td>\n",
       "      <td>-0.264213</td>\n",
       "    </tr>\n",
       "    <tr>\n",
       "      <th>2</th>\n",
       "      <td>0.747913</td>\n",
       "      <td>0.362912</td>\n",
       "      <td>77.721451</td>\n",
       "      <td>-0.289367</td>\n",
       "    </tr>\n",
       "  </tbody>\n",
       "</table>\n",
       "</div>"
      ],
      "text/plain": [
       "      samine                                   \n",
       "        atom                                mol\n",
       "  N1_pyrd_Ar H4_NBO_charge   N1_V_bur      HOMO\n",
       "       boltz         boltz      min_E     boltz\n",
       "0   0.761948      0.349818  74.593941 -0.285781\n",
       "1   0.743239      0.362009  74.851257 -0.264213\n",
       "2   0.747913      0.362912  77.721451 -0.289367"
      ]
     },
     "execution_count": 14,
     "metadata": {},
     "output_type": "execute_result"
    }
   ],
   "source": [
    "# view all predictions\n",
    "samine_results_df.head()"
   ]
  },
  {
   "cell_type": "code",
   "execution_count": null,
   "id": "b0094138-71b3-45a8-9807-54f9c8e22d61",
   "metadata": {},
   "outputs": [],
   "source": []
  },
  {
   "cell_type": "code",
   "execution_count": 15,
   "id": "83967569-2af5-4da2-a754-a0ae99b839b8",
   "metadata": {
    "tags": []
   },
   "outputs": [
    {
     "data": {
      "text/html": [
       "<div>\n",
       "<style scoped>\n",
       "    .dataframe tbody tr th:only-of-type {\n",
       "        vertical-align: middle;\n",
       "    }\n",
       "\n",
       "    .dataframe tbody tr th {\n",
       "        vertical-align: top;\n",
       "    }\n",
       "\n",
       "    .dataframe thead tr th {\n",
       "        text-align: left;\n",
       "    }\n",
       "</style>\n",
       "<table border=\"1\" class=\"dataframe\">\n",
       "  <thead>\n",
       "    <tr>\n",
       "      <th></th>\n",
       "      <th>C1_V_bur</th>\n",
       "      <th>C1_NBO_charge</th>\n",
       "    </tr>\n",
       "    <tr>\n",
       "      <th></th>\n",
       "      <th>boltz</th>\n",
       "      <th>boltz</th>\n",
       "    </tr>\n",
       "  </thead>\n",
       "  <tbody>\n",
       "    <tr>\n",
       "      <th>0</th>\n",
       "      <td>71.103767</td>\n",
       "      <td>0.761706</td>\n",
       "    </tr>\n",
       "    <tr>\n",
       "      <th>1</th>\n",
       "      <td>68.913986</td>\n",
       "      <td>0.798441</td>\n",
       "    </tr>\n",
       "    <tr>\n",
       "      <th>2</th>\n",
       "      <td>66.887764</td>\n",
       "      <td>0.753666</td>\n",
       "    </tr>\n",
       "  </tbody>\n",
       "</table>\n",
       "</div>"
      ],
      "text/plain": [
       "    C1_V_bur C1_NBO_charge\n",
       "       boltz         boltz\n",
       "0  71.103767      0.761706\n",
       "1  68.913986      0.798441\n",
       "2  66.887764      0.753666"
      ]
     },
     "execution_count": 15,
     "metadata": {},
     "output_type": "execute_result"
    }
   ],
   "source": [
    "# access only certain predictions\n",
    "acid_results_df[('acids', 'atom')]"
   ]
  },
  {
   "cell_type": "code",
   "execution_count": 16,
   "id": "fceea8ee-d647-4dc0-9eda-eca746b650a2",
   "metadata": {
    "tags": []
   },
   "outputs": [
    {
     "name": "stderr",
     "output_type": "stream",
     "text": [
      "/tmp/ipykernel_3140064/2570335575.py:2: PerformanceWarning: indexing past lexsort depth may impact performance.\n",
      "  pamine_results_df[('pamine', 'bond', 'Sterimol_B1')]\n"
     ]
    },
    {
     "data": {
      "text/html": [
       "<div>\n",
       "<style scoped>\n",
       "    .dataframe tbody tr th:only-of-type {\n",
       "        vertical-align: middle;\n",
       "    }\n",
       "\n",
       "    .dataframe tbody tr th {\n",
       "        vertical-align: top;\n",
       "    }\n",
       "\n",
       "    .dataframe thead th {\n",
       "        text-align: right;\n",
       "    }\n",
       "</style>\n",
       "<table border=\"1\" class=\"dataframe\">\n",
       "  <thead>\n",
       "    <tr style=\"text-align: right;\">\n",
       "      <th></th>\n",
       "      <th>boltz</th>\n",
       "    </tr>\n",
       "  </thead>\n",
       "  <tbody>\n",
       "    <tr>\n",
       "      <th>0</th>\n",
       "      <td>1.786983</td>\n",
       "    </tr>\n",
       "    <tr>\n",
       "      <th>1</th>\n",
       "      <td>2.462303</td>\n",
       "    </tr>\n",
       "  </tbody>\n",
       "</table>\n",
       "</div>"
      ],
      "text/plain": [
       "      boltz\n",
       "0  1.786983\n",
       "1  2.462303"
      ]
     },
     "execution_count": 16,
     "metadata": {},
     "output_type": "execute_result"
    }
   ],
   "source": [
    "# access only certain predictions\n",
    "pamine_results_df[('pamine', 'bond', 'Sterimol_B1')]"
   ]
  },
  {
   "cell_type": "code",
   "execution_count": null,
   "id": "a9af7752-8eae-47b2-b975-132c0b1b20a3",
   "metadata": {},
   "outputs": [],
   "source": []
  }
 ],
 "metadata": {
  "kernelspec": {
   "display_name": "pyt_ac_cpu",
   "language": "python",
   "name": "pyt_ac_cpu"
  },
  "language_info": {
   "codemirror_mode": {
    "name": "ipython",
    "version": 3
   },
   "file_extension": ".py",
   "mimetype": "text/x-python",
   "name": "python",
   "nbconvert_exporter": "python",
   "pygments_lexer": "ipython3",
   "version": "3.10.8"
  }
 },
 "nbformat": 4,
 "nbformat_minor": 5
}
